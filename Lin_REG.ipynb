{
 "cells": [
  {
   "cell_type": "code",
   "execution_count": 3,
   "id": "d1a7286b",
   "metadata": {},
   "outputs": [
    {
     "name": "stdout",
     "output_type": "stream",
     "text": [
      "explained_variance:  0.0705\n",
      "MAE:  1.1561\n",
      "r2:  0.065\n",
      "MSE:  3.0039\n",
      "RMSE:  1.7332\n"
     ]
    }
   ],
   "source": [
    "import numpy as np\n",
    "import matplotlib.pyplot as plt\n",
    "import pandas as pd\n",
    "import pyreadr\n",
    "import lightgbm as lgb\n",
    "import rpy2.robjects as robjects\n",
    "from rpy2.robjects import pandas2ri\n",
    "import matplotlib.pyplot as plt\n",
    "import numpy as np\n",
    "from sklearn import datasets, linear_model\n",
    "from sklearn.metrics import mean_squared_error, r2_score\n",
    "import sklearn.metrics as metrics\n",
    "\n",
    "df = pd.read_csv('C:/Users/micha/Desktop/hackaton/WEC2022_Data/linear_final_dataset.csv', sep = \";\", decimal=\",\")\n",
    "\n",
    "X = df.iloc[:, 1:-1].values\n",
    "y = df.iloc[:, -1].values\n",
    "\n",
    "from sklearn.model_selection import train_test_split\n",
    "X_train, X_test, y_train, y_test = train_test_split(X, y, test_size = 0.2, random_state = 0)\n",
    "\n",
    "# Create linear regression object\n",
    "regr = linear_model.LinearRegression()\n",
    "\n",
    "# Train the model using the training sets\n",
    "regr.fit(X_train, y_train)\n",
    "\n",
    "# Make predictions using the testing set\n",
    "y_pred = regr.predict(X_test)\n",
    "\n",
    "explained_variance=metrics.explained_variance_score(y_test, y_pred)\n",
    "mean_absolute_error=metrics.mean_absolute_error(y_test, y_pred) \n",
    "mse=metrics.mean_squared_error(y_test, y_pred) \n",
    "median_absolute_error=metrics.median_absolute_error(y_test, y_pred)\n",
    "r2=metrics.r2_score(y_test, y_pred)\n",
    "\n",
    "print('explained_variance: ', round(explained_variance,4))\n",
    "print('MAE: ', round(mean_absolute_error,4))\n",
    "print('r2: ', round(r2,4))\n",
    "print('MSE: ', round(mse,4))\n",
    "print('RMSE: ', round(np.sqrt(mse),4))"
   ]
  },
  {
   "cell_type": "code",
   "execution_count": 10,
   "id": "cda4ca1c",
   "metadata": {},
   "outputs": [],
   "source": [
    "X_withnames = df.drop(columns=[\"Unnamed: 0\", \"flg_min_upg\"])\n",
    "y_withnames = df[\"flg_min_upg\"]"
   ]
  },
  {
   "cell_type": "code",
   "execution_count": 11,
   "id": "91473e37",
   "metadata": {},
   "outputs": [
    {
     "name": "stdout",
     "output_type": "stream",
     "text": [
      "Preparation of a new explainer is initiated\n",
      "\n",
      "  -> data              : 8317 rows 13 cols\n",
      "  -> target variable   : Parameter 'y' was a pandas.Series. Converted to a numpy.ndarray.\n",
      "  -> target variable   : 8317 values\n",
      "  -> model_class       : sklearn.linear_model._base.LinearRegression (default)\n",
      "  -> label             : Linear reg Pipeline\n",
      "  -> predict function  : <function yhat_default at 0x000001E2D7C9FE50> will be used (default)\n",
      "  -> predict function  : Accepts pandas.DataFrame and numpy.ndarray.\n",
      "  -> predicted values  : min = -0.8, mean = 1.31, max = 9.81\n",
      "  -> model type        : regression will be used (default)\n",
      "  -> residual function : difference between y and yhat (default)\n",
      "  -> residuals         : min = -9.81, mean = -0.0267, max = 3.63e+02\n",
      "  -> model_info        : package sklearn\n",
      "\n",
      "A new explainer has been created!\n"
     ]
    },
    {
     "data": {
      "application/vnd.plotly.v1+json": {
       "config": {
        "displaylogo": false,
        "modeBarButtonsToRemove": [
         "sendDataToCloud",
         "lasso2d",
         "autoScale2d",
         "select2d",
         "zoom2d",
         "pan2d",
         "zoomIn2d",
         "zoomOut2d",
         "resetScale2d",
         "toggleSpikelines",
         "hoverCompareCartesian",
         "hoverClosestCartesian"
        ],
        "plotlyServerURL": "https://plot.ly",
        "staticPlot": false,
        "toImageButtonOptions": {
         "height": null,
         "width": null
        }
       },
       "data": [
        {
         "base": 3.888187194871435,
         "hoverinfo": "text",
         "hoverlabel": {
          "bgcolor": "rgba(0,0,0,0.8)"
         },
         "hovertext": [
          "Model: Linear reg Pipeline loss after<br>variable: FCP_BOOKED_CABINEconomy is permuted: 3.93<br>Drop-out loss change: +0.042",
          "Model: Linear reg Pipeline loss after<br>variable: FCP_FLIGHT_DATE_QUARTER is permuted: 3.921<br>Drop-out loss change: +0.033",
          "Model: Linear reg Pipeline loss after<br>variable: FCP_FLIGHT_RANGEDOMESTIC is permuted: 3.909<br>Drop-out loss change: +0.02",
          "Model: Linear reg Pipeline loss after<br>variable: BKG_STAY_LENGTH_GROUPEDLong is permuted: 3.909<br>Drop-out loss change: +0.02",
          "Model: Linear reg Pipeline loss after<br>variable: BKG_STAY_LENGTH_GROUPEDMedium is permuted: 3.903<br>Drop-out loss change: +0.015",
          "Model: Linear reg Pipeline loss after<br>variable: TKT_TOTAL_PRICE_PLN is permuted: 3.898<br>Drop-out loss change: +0.009",
          "Model: Linear reg Pipeline loss after<br>variable: FCP_FLIGHT_DATE_WEEKDAY is permuted: 3.896<br>Drop-out loss change: +0.008",
          "Model: Linear reg Pipeline loss after<br>variable: FCP_VABBASIC is permuted: 3.895<br>Drop-out loss change: +0.007",
          "Model: Linear reg Pipeline loss after<br>variable: BKG_BOOKING_WINDOW_D is permuted: 3.894<br>Drop-out loss change: +0.006",
          "Model: Linear reg Pipeline loss after<br>variable: FCP_FLIGHT_DISTANCE is permuted: 3.893<br>Drop-out loss change: +0.005"
         ],
         "marker": {
          "color": "#46bac2"
         },
         "orientation": "h",
         "showlegend": false,
         "text": [
          "+0.042",
          "+0.033",
          "+0.02",
          "+0.02",
          "+0.015",
          "+0.009",
          "+0.008",
          "+0.007",
          "+0.006",
          "+0.005"
         ],
         "textposition": "outside",
         "type": "bar",
         "x": [
          0.04164406895858841,
          0.033211346616637716,
          0.020403105177158043,
          0.02036941301462125,
          0.014591371951108378,
          0.009350837955479196,
          0.007701087320064026,
          0.0069477386789977835,
          0.006126298565649169,
          0.005010657057651802
         ],
         "xaxis": "x",
         "y": [
          "FCP_BOOKED_CABINEconomy",
          "FCP_FLIGHT_DATE_QUARTER",
          "FCP_FLIGHT_RANGEDOMESTIC",
          "BKG_STAY_LENGTH_GROUPEDLong",
          "BKG_STAY_LENGTH_GROUPEDMedium",
          "TKT_TOTAL_PRICE_PLN",
          "FCP_FLIGHT_DATE_WEEKDAY",
          "FCP_VABBASIC",
          "BKG_BOOKING_WINDOW_D",
          "FCP_FLIGHT_DISTANCE"
         ],
         "yaxis": "y"
        }
       ],
       "layout": {
        "annotations": [
         {
          "font": {
           "size": 16
          },
          "showarrow": false,
          "text": "Linear reg Pipeline",
          "x": 0.5,
          "xanchor": "center",
          "xref": "paper",
          "y": 1,
          "yanchor": "bottom",
          "yref": "paper"
         },
         {
          "font": {
           "size": 16
          },
          "showarrow": false,
          "text": "drop-out loss",
          "x": 0.5,
          "xanchor": "center",
          "xref": "paper",
          "y": 0,
          "yanchor": "top",
          "yref": "paper",
          "yshift": -30
         }
        ],
        "font": {
         "color": "#371ea3"
        },
        "height": 383,
        "margin": {
         "b": 71,
         "r": 30,
         "t": 78
        },
        "shapes": [
         {
          "line": {
           "color": "#371ea3",
           "dash": "dot",
           "width": 1.5
          },
          "type": "line",
          "x0": 3.888187194871435,
          "x1": 3.888187194871435,
          "xref": "x",
          "y0": -1,
          "y1": 10,
          "yref": "y"
         }
        ],
        "template": {
         "data": {
          "scatter": [
           {
            "type": "scatter"
           }
          ]
         }
        },
        "title": {
         "text": "Variable Importance",
         "x": 0.15
        },
        "xaxis": {
         "anchor": "y",
         "automargin": true,
         "domain": [
          0,
          1
         ],
         "fixedrange": true,
         "gridwidth": 2,
         "range": [
          3.8819405845276465,
          3.9360778741738116
         ],
         "tickcolor": "white",
         "ticklen": 3,
         "ticks": "outside",
         "type": "linear",
         "zeroline": false
        },
        "yaxis": {
         "anchor": "x",
         "automargin": true,
         "autorange": "reversed",
         "domain": [
          0,
          1
         ],
         "fixedrange": true,
         "gridwidth": 2,
         "tickcolor": "white",
         "ticklen": 10,
         "ticks": "outside",
         "type": "category"
        }
       }
      },
      "text/html": [
       "<div>                            <div id=\"5c5d7f89-633e-4a5c-8d6f-251d06c79e59\" class=\"plotly-graph-div\" style=\"height:383.0px; width:100%;\"></div>            <script type=\"text/javascript\">                require([\"plotly\"], function(Plotly) {                    window.PLOTLYENV=window.PLOTLYENV || {};                                    if (document.getElementById(\"5c5d7f89-633e-4a5c-8d6f-251d06c79e59\")) {                    Plotly.newPlot(                        \"5c5d7f89-633e-4a5c-8d6f-251d06c79e59\",                        [{\"base\":3.888187194871435,\"hoverinfo\":\"text\",\"hoverlabel\":{\"bgcolor\":\"rgba(0,0,0,0.8)\"},\"hovertext\":[\"Model: Linear reg Pipeline loss after<br>variable: FCP_BOOKED_CABINEconomy is permuted: 3.93<br>Drop-out loss change: +0.042\",\"Model: Linear reg Pipeline loss after<br>variable: FCP_FLIGHT_DATE_QUARTER is permuted: 3.921<br>Drop-out loss change: +0.033\",\"Model: Linear reg Pipeline loss after<br>variable: FCP_FLIGHT_RANGEDOMESTIC is permuted: 3.909<br>Drop-out loss change: +0.02\",\"Model: Linear reg Pipeline loss after<br>variable: BKG_STAY_LENGTH_GROUPEDLong is permuted: 3.909<br>Drop-out loss change: +0.02\",\"Model: Linear reg Pipeline loss after<br>variable: BKG_STAY_LENGTH_GROUPEDMedium is permuted: 3.903<br>Drop-out loss change: +0.015\",\"Model: Linear reg Pipeline loss after<br>variable: TKT_TOTAL_PRICE_PLN is permuted: 3.898<br>Drop-out loss change: +0.009\",\"Model: Linear reg Pipeline loss after<br>variable: FCP_FLIGHT_DATE_WEEKDAY is permuted: 3.896<br>Drop-out loss change: +0.008\",\"Model: Linear reg Pipeline loss after<br>variable: FCP_VABBASIC is permuted: 3.895<br>Drop-out loss change: +0.007\",\"Model: Linear reg Pipeline loss after<br>variable: BKG_BOOKING_WINDOW_D is permuted: 3.894<br>Drop-out loss change: +0.006\",\"Model: Linear reg Pipeline loss after<br>variable: FCP_FLIGHT_DISTANCE is permuted: 3.893<br>Drop-out loss change: +0.005\"],\"marker\":{\"color\":\"#46bac2\"},\"orientation\":\"h\",\"showlegend\":false,\"text\":[\"+0.042\",\"+0.033\",\"+0.02\",\"+0.02\",\"+0.015\",\"+0.009\",\"+0.008\",\"+0.007\",\"+0.006\",\"+0.005\"],\"textposition\":\"outside\",\"x\":[0.04164406895858841,0.033211346616637716,0.020403105177158043,0.02036941301462125,0.014591371951108378,0.009350837955479196,0.007701087320064026,0.0069477386789977835,0.006126298565649169,0.005010657057651802],\"y\":[\"FCP_BOOKED_CABINEconomy\",\"FCP_FLIGHT_DATE_QUARTER\",\"FCP_FLIGHT_RANGEDOMESTIC\",\"BKG_STAY_LENGTH_GROUPEDLong\",\"BKG_STAY_LENGTH_GROUPEDMedium\",\"TKT_TOTAL_PRICE_PLN\",\"FCP_FLIGHT_DATE_WEEKDAY\",\"FCP_VABBASIC\",\"BKG_BOOKING_WINDOW_D\",\"FCP_FLIGHT_DISTANCE\"],\"type\":\"bar\",\"xaxis\":\"x\",\"yaxis\":\"y\"}],                        {\"template\":{\"data\":{\"scatter\":[{\"type\":\"scatter\"}]}},\"xaxis\":{\"anchor\":\"y\",\"domain\":[0.0,1.0],\"type\":\"linear\",\"gridwidth\":2,\"zeroline\":false,\"automargin\":true,\"ticks\":\"outside\",\"tickcolor\":\"white\",\"ticklen\":3,\"fixedrange\":true,\"range\":[3.8819405845276465,3.9360778741738116]},\"yaxis\":{\"anchor\":\"x\",\"domain\":[0.0,1.0],\"type\":\"category\",\"autorange\":\"reversed\",\"gridwidth\":2,\"automargin\":true,\"ticks\":\"outside\",\"tickcolor\":\"white\",\"ticklen\":10,\"fixedrange\":true},\"annotations\":[{\"font\":{\"size\":16},\"showarrow\":false,\"text\":\"Linear reg Pipeline\",\"x\":0.5,\"xanchor\":\"center\",\"xref\":\"paper\",\"y\":1.0,\"yanchor\":\"bottom\",\"yref\":\"paper\"},{\"font\":{\"size\":16},\"showarrow\":false,\"text\":\"drop-out loss\",\"x\":0.5,\"xanchor\":\"center\",\"xref\":\"paper\",\"y\":0,\"yanchor\":\"top\",\"yref\":\"paper\",\"yshift\":-30}],\"shapes\":[{\"line\":{\"color\":\"#371ea3\",\"dash\":\"dot\",\"width\":1.5},\"type\":\"line\",\"x0\":3.888187194871435,\"x1\":3.888187194871435,\"xref\":\"x\",\"y0\":-1,\"y1\":10,\"yref\":\"y\"}],\"title\":{\"text\":\"Variable Importance\",\"x\":0.15},\"font\":{\"color\":\"#371ea3\"},\"margin\":{\"t\":78,\"b\":71,\"r\":30},\"height\":383.0},                        {\"displaylogo\": false, \"staticPlot\": false, \"toImageButtonOptions\": {\"height\": null, \"width\": null}, \"modeBarButtonsToRemove\": [\"sendDataToCloud\", \"lasso2d\", \"autoScale2d\", \"select2d\", \"zoom2d\", \"pan2d\", \"zoomIn2d\", \"zoomOut2d\", \"resetScale2d\", \"toggleSpikelines\", \"hoverCompareCartesian\", \"hoverClosestCartesian\"], \"responsive\": true}                    ).then(function(){\n",
       "                            \n",
       "var gd = document.getElementById('5c5d7f89-633e-4a5c-8d6f-251d06c79e59');\n",
       "var x = new MutationObserver(function (mutations, observer) {{\n",
       "        var display = window.getComputedStyle(gd).display;\n",
       "        if (!display || display === 'none') {{\n",
       "            console.log([gd, 'removed!']);\n",
       "            Plotly.purge(gd);\n",
       "            observer.disconnect();\n",
       "        }}\n",
       "}});\n",
       "\n",
       "// Listen for the removal of the full notebook cells\n",
       "var notebookContainer = gd.closest('#notebook-container');\n",
       "if (notebookContainer) {{\n",
       "    x.observe(notebookContainer, {childList: true});\n",
       "}}\n",
       "\n",
       "// Listen for the clearing of the current output cell\n",
       "var outputEl = gd.closest('.output');\n",
       "if (outputEl) {{\n",
       "    x.observe(outputEl, {childList: true});\n",
       "}}\n",
       "\n",
       "                        })                };                });            </script>        </div>"
      ]
     },
     "metadata": {},
     "output_type": "display_data"
    }
   ],
   "source": [
    "import dalex as dx\n",
    "lin_reg_exp = dx.Explainer(regr, X_withnames, y_withnames, label = \"Linear reg Pipeline\")\n",
    "mp_rf = lin_reg_exp.model_parts()\n",
    "mp_rf.result\n",
    "mp_rf.plot()"
   ]
  },
  {
   "cell_type": "code",
   "execution_count": 12,
   "id": "4a1f7af6",
   "metadata": {},
   "outputs": [
    {
     "name": "stderr",
     "output_type": "stream",
     "text": [
      "Calculating ceteris paribus: 100%|██████████| 2/2 [00:00<00:00, 63.78it/s]\n"
     ]
    },
    {
     "data": {
      "application/vnd.plotly.v1+json": {
       "config": {
        "displaylogo": false,
        "modeBarButtonsToRemove": [
         "sendDataToCloud",
         "lasso2d",
         "autoScale2d",
         "select2d",
         "zoom2d",
         "pan2d",
         "zoomIn2d",
         "zoomOut2d",
         "resetScale2d",
         "toggleSpikelines",
         "hoverCompareCartesian",
         "hoverClosestCartesian"
        ],
        "plotlyServerURL": "https://plot.ly",
        "staticPlot": false,
        "toImageButtonOptions": {
         "height": null,
         "width": null
        }
       },
       "data": [
        {
         "customdata": [
          [
           1.2822955760090176,
           "Linear reg Pipeline",
           "FCP_FLIGHT_DISTANCE"
          ],
          [
           1.2822955760090176,
           "Linear reg Pipeline",
           "FCP_FLIGHT_DISTANCE"
          ],
          [
           1.2822955760090176,
           "Linear reg Pipeline",
           "FCP_FLIGHT_DISTANCE"
          ],
          [
           1.2822955760090176,
           "Linear reg Pipeline",
           "FCP_FLIGHT_DISTANCE"
          ],
          [
           1.2822955760090176,
           "Linear reg Pipeline",
           "FCP_FLIGHT_DISTANCE"
          ],
          [
           1.2822955760090176,
           "Linear reg Pipeline",
           "FCP_FLIGHT_DISTANCE"
          ],
          [
           1.2822955760090176,
           "Linear reg Pipeline",
           "FCP_FLIGHT_DISTANCE"
          ],
          [
           1.2822955760090176,
           "Linear reg Pipeline",
           "FCP_FLIGHT_DISTANCE"
          ],
          [
           1.2822955760090176,
           "Linear reg Pipeline",
           "FCP_FLIGHT_DISTANCE"
          ],
          [
           1.2822955760090176,
           "Linear reg Pipeline",
           "FCP_FLIGHT_DISTANCE"
          ],
          [
           1.2822955760090176,
           "Linear reg Pipeline",
           "FCP_FLIGHT_DISTANCE"
          ],
          [
           1.2822955760090176,
           "Linear reg Pipeline",
           "FCP_FLIGHT_DISTANCE"
          ],
          [
           1.2822955760090176,
           "Linear reg Pipeline",
           "FCP_FLIGHT_DISTANCE"
          ],
          [
           1.2822955760090176,
           "Linear reg Pipeline",
           "FCP_FLIGHT_DISTANCE"
          ],
          [
           1.2822955760090176,
           "Linear reg Pipeline",
           "FCP_FLIGHT_DISTANCE"
          ],
          [
           1.2822955760090176,
           "Linear reg Pipeline",
           "FCP_FLIGHT_DISTANCE"
          ],
          [
           1.2822955760090176,
           "Linear reg Pipeline",
           "FCP_FLIGHT_DISTANCE"
          ],
          [
           1.2822955760090176,
           "Linear reg Pipeline",
           "FCP_FLIGHT_DISTANCE"
          ],
          [
           1.2822955760090176,
           "Linear reg Pipeline",
           "FCP_FLIGHT_DISTANCE"
          ],
          [
           1.2822955760090176,
           "Linear reg Pipeline",
           "FCP_FLIGHT_DISTANCE"
          ],
          [
           1.2822955760090176,
           "Linear reg Pipeline",
           "FCP_FLIGHT_DISTANCE"
          ],
          [
           1.2822955760090176,
           "Linear reg Pipeline",
           "FCP_FLIGHT_DISTANCE"
          ],
          [
           1.2822955760090176,
           "Linear reg Pipeline",
           "FCP_FLIGHT_DISTANCE"
          ],
          [
           1.2822955760090176,
           "Linear reg Pipeline",
           "FCP_FLIGHT_DISTANCE"
          ],
          [
           1.2822955760090176,
           "Linear reg Pipeline",
           "FCP_FLIGHT_DISTANCE"
          ],
          [
           1.2822955760090176,
           "Linear reg Pipeline",
           "FCP_FLIGHT_DISTANCE"
          ],
          [
           1.2822955760090176,
           "Linear reg Pipeline",
           "FCP_FLIGHT_DISTANCE"
          ],
          [
           1.2822955760090176,
           "Linear reg Pipeline",
           "FCP_FLIGHT_DISTANCE"
          ],
          [
           1.2822955760090176,
           "Linear reg Pipeline",
           "FCP_FLIGHT_DISTANCE"
          ],
          [
           1.2822955760090176,
           "Linear reg Pipeline",
           "FCP_FLIGHT_DISTANCE"
          ],
          [
           1.2822955760090176,
           "Linear reg Pipeline",
           "FCP_FLIGHT_DISTANCE"
          ],
          [
           1.2822955760090176,
           "Linear reg Pipeline",
           "FCP_FLIGHT_DISTANCE"
          ],
          [
           1.2822955760090176,
           "Linear reg Pipeline",
           "FCP_FLIGHT_DISTANCE"
          ],
          [
           1.2822955760090176,
           "Linear reg Pipeline",
           "FCP_FLIGHT_DISTANCE"
          ],
          [
           1.2822955760090176,
           "Linear reg Pipeline",
           "FCP_FLIGHT_DISTANCE"
          ],
          [
           1.2822955760090176,
           "Linear reg Pipeline",
           "FCP_FLIGHT_DISTANCE"
          ],
          [
           1.2822955760090176,
           "Linear reg Pipeline",
           "FCP_FLIGHT_DISTANCE"
          ],
          [
           1.2822955760090176,
           "Linear reg Pipeline",
           "FCP_FLIGHT_DISTANCE"
          ],
          [
           1.2822955760090176,
           "Linear reg Pipeline",
           "FCP_FLIGHT_DISTANCE"
          ],
          [
           1.2822955760090176,
           "Linear reg Pipeline",
           "FCP_FLIGHT_DISTANCE"
          ],
          [
           1.2822955760090176,
           "Linear reg Pipeline",
           "FCP_FLIGHT_DISTANCE"
          ],
          [
           1.2822955760090176,
           "Linear reg Pipeline",
           "FCP_FLIGHT_DISTANCE"
          ],
          [
           1.2822955760090176,
           "Linear reg Pipeline",
           "FCP_FLIGHT_DISTANCE"
          ],
          [
           1.2822955760090176,
           "Linear reg Pipeline",
           "FCP_FLIGHT_DISTANCE"
          ],
          [
           1.2822955760090176,
           "Linear reg Pipeline",
           "FCP_FLIGHT_DISTANCE"
          ],
          [
           1.2822955760090176,
           "Linear reg Pipeline",
           "FCP_FLIGHT_DISTANCE"
          ],
          [
           1.2822955760090176,
           "Linear reg Pipeline",
           "FCP_FLIGHT_DISTANCE"
          ],
          [
           1.2822955760090176,
           "Linear reg Pipeline",
           "FCP_FLIGHT_DISTANCE"
          ],
          [
           1.2822955760090176,
           "Linear reg Pipeline",
           "FCP_FLIGHT_DISTANCE"
          ],
          [
           1.2822955760090176,
           "Linear reg Pipeline",
           "FCP_FLIGHT_DISTANCE"
          ],
          [
           1.2822955760090176,
           "Linear reg Pipeline",
           "FCP_FLIGHT_DISTANCE"
          ],
          [
           1.2822955760090176,
           "Linear reg Pipeline",
           "FCP_FLIGHT_DISTANCE"
          ],
          [
           1.2822955760090176,
           "Linear reg Pipeline",
           "FCP_FLIGHT_DISTANCE"
          ],
          [
           1.2822955760090176,
           "Linear reg Pipeline",
           "FCP_FLIGHT_DISTANCE"
          ],
          [
           1.2822955760090176,
           "Linear reg Pipeline",
           "FCP_FLIGHT_DISTANCE"
          ],
          [
           1.2822955760090176,
           "Linear reg Pipeline",
           "FCP_FLIGHT_DISTANCE"
          ],
          [
           1.2822955760090176,
           "Linear reg Pipeline",
           "FCP_FLIGHT_DISTANCE"
          ],
          [
           1.2822955760090176,
           "Linear reg Pipeline",
           "FCP_FLIGHT_DISTANCE"
          ],
          [
           1.2822955760090176,
           "Linear reg Pipeline",
           "FCP_FLIGHT_DISTANCE"
          ],
          [
           1.2822955760090176,
           "Linear reg Pipeline",
           "FCP_FLIGHT_DISTANCE"
          ],
          [
           1.2822955760090176,
           "Linear reg Pipeline",
           "FCP_FLIGHT_DISTANCE"
          ],
          [
           1.2822955760090176,
           "Linear reg Pipeline",
           "FCP_FLIGHT_DISTANCE"
          ],
          [
           1.2822955760090176,
           "Linear reg Pipeline",
           "FCP_FLIGHT_DISTANCE"
          ],
          [
           1.2822955760090176,
           "Linear reg Pipeline",
           "FCP_FLIGHT_DISTANCE"
          ],
          [
           1.2822955760090176,
           "Linear reg Pipeline",
           "FCP_FLIGHT_DISTANCE"
          ],
          [
           1.2822955760090176,
           "Linear reg Pipeline",
           "FCP_FLIGHT_DISTANCE"
          ],
          [
           1.2822955760090176,
           "Linear reg Pipeline",
           "FCP_FLIGHT_DISTANCE"
          ],
          [
           1.2822955760090176,
           "Linear reg Pipeline",
           "FCP_FLIGHT_DISTANCE"
          ],
          [
           1.2822955760090176,
           "Linear reg Pipeline",
           "FCP_FLIGHT_DISTANCE"
          ],
          [
           1.2822955760090176,
           "Linear reg Pipeline",
           "FCP_FLIGHT_DISTANCE"
          ],
          [
           1.2822955760090176,
           "Linear reg Pipeline",
           "FCP_FLIGHT_DISTANCE"
          ],
          [
           1.2822955760090176,
           "Linear reg Pipeline",
           "FCP_FLIGHT_DISTANCE"
          ],
          [
           1.2822955760090176,
           "Linear reg Pipeline",
           "FCP_FLIGHT_DISTANCE"
          ],
          [
           1.2822955760090176,
           "Linear reg Pipeline",
           "FCP_FLIGHT_DISTANCE"
          ],
          [
           1.2822955760090176,
           "Linear reg Pipeline",
           "FCP_FLIGHT_DISTANCE"
          ],
          [
           1.2822955760090176,
           "Linear reg Pipeline",
           "FCP_FLIGHT_DISTANCE"
          ],
          [
           1.2822955760090176,
           "Linear reg Pipeline",
           "FCP_FLIGHT_DISTANCE"
          ],
          [
           1.2822955760090176,
           "Linear reg Pipeline",
           "FCP_FLIGHT_DISTANCE"
          ],
          [
           1.2822955760090176,
           "Linear reg Pipeline",
           "FCP_FLIGHT_DISTANCE"
          ],
          [
           1.2822955760090176,
           "Linear reg Pipeline",
           "FCP_FLIGHT_DISTANCE"
          ],
          [
           1.2822955760090176,
           "Linear reg Pipeline",
           "FCP_FLIGHT_DISTANCE"
          ],
          [
           1.2822955760090176,
           "Linear reg Pipeline",
           "FCP_FLIGHT_DISTANCE"
          ],
          [
           1.2822955760090176,
           "Linear reg Pipeline",
           "FCP_FLIGHT_DISTANCE"
          ],
          [
           1.2822955760090176,
           "Linear reg Pipeline",
           "FCP_FLIGHT_DISTANCE"
          ],
          [
           1.2822955760090176,
           "Linear reg Pipeline",
           "FCP_FLIGHT_DISTANCE"
          ],
          [
           1.2822955760090176,
           "Linear reg Pipeline",
           "FCP_FLIGHT_DISTANCE"
          ],
          [
           1.2822955760090176,
           "Linear reg Pipeline",
           "FCP_FLIGHT_DISTANCE"
          ],
          [
           1.2822955760090176,
           "Linear reg Pipeline",
           "FCP_FLIGHT_DISTANCE"
          ],
          [
           1.2822955760090176,
           "Linear reg Pipeline",
           "FCP_FLIGHT_DISTANCE"
          ],
          [
           1.2822955760090176,
           "Linear reg Pipeline",
           "FCP_FLIGHT_DISTANCE"
          ],
          [
           1.2822955760090176,
           "Linear reg Pipeline",
           "FCP_FLIGHT_DISTANCE"
          ],
          [
           1.2822955760090176,
           "Linear reg Pipeline",
           "FCP_FLIGHT_DISTANCE"
          ],
          [
           1.2822955760090176,
           "Linear reg Pipeline",
           "FCP_FLIGHT_DISTANCE"
          ],
          [
           1.2822955760090176,
           "Linear reg Pipeline",
           "FCP_FLIGHT_DISTANCE"
          ],
          [
           1.2822955760090176,
           "Linear reg Pipeline",
           "FCP_FLIGHT_DISTANCE"
          ],
          [
           1.2822955760090176,
           "Linear reg Pipeline",
           "FCP_FLIGHT_DISTANCE"
          ],
          [
           1.2822955760090176,
           "Linear reg Pipeline",
           "FCP_FLIGHT_DISTANCE"
          ],
          [
           1.2822955760090176,
           "Linear reg Pipeline",
           "FCP_FLIGHT_DISTANCE"
          ],
          [
           1.2822955760090176,
           "Linear reg Pipeline",
           "FCP_FLIGHT_DISTANCE"
          ],
          [
           1.2822955760090176,
           "Linear reg Pipeline",
           "FCP_FLIGHT_DISTANCE"
          ],
          [
           1.2822955760090176,
           "Linear reg Pipeline",
           "FCP_FLIGHT_DISTANCE"
          ]
         ],
         "hovertemplate": "<b>%{hovertext}</b><br><br>prediction=%{y:.3f}<br>mean_prediction=%{customdata[0]:.3f}<extra></extra>",
         "hovertext": [
          "Linear reg Pipeline",
          "Linear reg Pipeline",
          "Linear reg Pipeline",
          "Linear reg Pipeline",
          "Linear reg Pipeline",
          "Linear reg Pipeline",
          "Linear reg Pipeline",
          "Linear reg Pipeline",
          "Linear reg Pipeline",
          "Linear reg Pipeline",
          "Linear reg Pipeline",
          "Linear reg Pipeline",
          "Linear reg Pipeline",
          "Linear reg Pipeline",
          "Linear reg Pipeline",
          "Linear reg Pipeline",
          "Linear reg Pipeline",
          "Linear reg Pipeline",
          "Linear reg Pipeline",
          "Linear reg Pipeline",
          "Linear reg Pipeline",
          "Linear reg Pipeline",
          "Linear reg Pipeline",
          "Linear reg Pipeline",
          "Linear reg Pipeline",
          "Linear reg Pipeline",
          "Linear reg Pipeline",
          "Linear reg Pipeline",
          "Linear reg Pipeline",
          "Linear reg Pipeline",
          "Linear reg Pipeline",
          "Linear reg Pipeline",
          "Linear reg Pipeline",
          "Linear reg Pipeline",
          "Linear reg Pipeline",
          "Linear reg Pipeline",
          "Linear reg Pipeline",
          "Linear reg Pipeline",
          "Linear reg Pipeline",
          "Linear reg Pipeline",
          "Linear reg Pipeline",
          "Linear reg Pipeline",
          "Linear reg Pipeline",
          "Linear reg Pipeline",
          "Linear reg Pipeline",
          "Linear reg Pipeline",
          "Linear reg Pipeline",
          "Linear reg Pipeline",
          "Linear reg Pipeline",
          "Linear reg Pipeline",
          "Linear reg Pipeline",
          "Linear reg Pipeline",
          "Linear reg Pipeline",
          "Linear reg Pipeline",
          "Linear reg Pipeline",
          "Linear reg Pipeline",
          "Linear reg Pipeline",
          "Linear reg Pipeline",
          "Linear reg Pipeline",
          "Linear reg Pipeline",
          "Linear reg Pipeline",
          "Linear reg Pipeline",
          "Linear reg Pipeline",
          "Linear reg Pipeline",
          "Linear reg Pipeline",
          "Linear reg Pipeline",
          "Linear reg Pipeline",
          "Linear reg Pipeline",
          "Linear reg Pipeline",
          "Linear reg Pipeline",
          "Linear reg Pipeline",
          "Linear reg Pipeline",
          "Linear reg Pipeline",
          "Linear reg Pipeline",
          "Linear reg Pipeline",
          "Linear reg Pipeline",
          "Linear reg Pipeline",
          "Linear reg Pipeline",
          "Linear reg Pipeline",
          "Linear reg Pipeline",
          "Linear reg Pipeline",
          "Linear reg Pipeline",
          "Linear reg Pipeline",
          "Linear reg Pipeline",
          "Linear reg Pipeline",
          "Linear reg Pipeline",
          "Linear reg Pipeline",
          "Linear reg Pipeline",
          "Linear reg Pipeline",
          "Linear reg Pipeline",
          "Linear reg Pipeline",
          "Linear reg Pipeline",
          "Linear reg Pipeline",
          "Linear reg Pipeline",
          "Linear reg Pipeline",
          "Linear reg Pipeline",
          "Linear reg Pipeline",
          "Linear reg Pipeline",
          "Linear reg Pipeline",
          "Linear reg Pipeline",
          "Linear reg Pipeline"
         ],
         "legendgroup": "Linear reg Pipeline",
         "line": {
          "color": "#46bac2",
          "dash": "solid",
          "width": 2
         },
         "marker": {
          "symbol": "circle"
         },
         "mode": "lines",
         "name": "Linear reg Pipeline",
         "opacity": 1,
         "orientation": "v",
         "showlegend": true,
         "type": "scatter",
         "x": [
          246,
          340.22,
          434.44,
          528.66,
          622.88,
          717.1,
          811.3199999999999,
          905.54,
          999.76,
          1093.98,
          1188.2,
          1282.42,
          1376.6399999999999,
          1470.86,
          1565.08,
          1659.3,
          1753.52,
          1847.74,
          1941.96,
          2036.18,
          2130.4,
          2224.62,
          2318.84,
          2413.06,
          2507.2799999999997,
          2601.5,
          2695.72,
          2789.94,
          2884.16,
          2978.38,
          3072.6,
          3166.82,
          3261.04,
          3355.2599999999998,
          3449.48,
          3543.7,
          3637.92,
          3732.14,
          3826.36,
          3920.58,
          4014.8,
          4109.02,
          4203.24,
          4297.46,
          4391.68,
          4485.9,
          4580.12,
          4674.34,
          4768.5599999999995,
          4862.78,
          4957,
          5051.22,
          5145.44,
          5239.66,
          5333.88,
          5428.1,
          5522.32,
          5616.54,
          5710.76,
          5804.98,
          5899.2,
          5993.42,
          6087.64,
          6181.86,
          6276.08,
          6370.3,
          6464.5199999999995,
          6558.74,
          6652.96,
          6747.18,
          6841.4,
          6935.62,
          7029.84,
          7124.0599999999995,
          7218.28,
          7312.5,
          7406.72,
          7500.94,
          7595.16,
          7689.38,
          7783.6,
          7877.82,
          7972.04,
          8066.26,
          8160.48,
          8254.7,
          8348.92,
          8443.14,
          8537.36,
          8631.58,
          8725.8,
          8820.02,
          8914.24,
          9008.46,
          9102.68,
          9196.9,
          9291.119999999999,
          9385.34,
          9479.56,
          9573.78,
          9668
         ],
         "xaxis": "x",
         "y": [
          0.42108089651528685,
          0.4325467598244164,
          0.444012623133546,
          0.4554784864426755,
          0.46694434975180493,
          0.47841021306093456,
          0.4898760763700641,
          0.5013419396791936,
          0.5128078029883233,
          0.5242736662974528,
          0.5357395296065823,
          0.5472053929157118,
          0.5586712562248413,
          0.570137119533971,
          0.5816029828431004,
          0.59306884615223,
          0.6045347094613596,
          0.616000572770489,
          0.6274664360796186,
          0.6389322993887481,
          0.6503981626978778,
          0.6618640260070072,
          0.6733298893161368,
          0.6847957526252663,
          0.6962616159343957,
          0.7077274792435254,
          0.7191933425526549,
          0.7306592058617845,
          0.742125069170914,
          0.7535909324800436,
          0.7650567957891731,
          0.7765226590983026,
          0.7879885224074321,
          0.7994543857165617,
          0.8109202490256913,
          0.8223861123348207,
          0.8338519756439503,
          0.8453178389530799,
          0.8567837022622093,
          0.8682495655713389,
          0.8797154288804685,
          0.8911812921895982,
          0.9026471554987275,
          0.914113018807857,
          0.9255788821169868,
          0.9370447454261162,
          0.9485106087352458,
          0.9599764720443754,
          0.9714423353535047,
          0.9829081986626345,
          0.9943740619717639,
          1.0058399252808934,
          1.017305788590023,
          1.0287716518991525,
          1.0402375152082821,
          1.0517033785174117,
          1.063169241826541,
          1.0746351051356706,
          1.0861009684448002,
          1.0975668317539298,
          1.1090326950630593,
          1.1204985583721887,
          1.1319644216813183,
          1.1434302849904479,
          1.1548961482995774,
          1.166362011608707,
          1.1778278749178364,
          1.1892937382269662,
          1.2007596015360957,
          1.2122254648452253,
          1.2236913281543547,
          1.2351571914634842,
          1.2466230547726138,
          1.2580889180817434,
          1.269554781390873,
          1.2810206447000025,
          1.292486508009132,
          1.3039523713182615,
          1.315418234627391,
          1.3268840979365206,
          1.3383499612456502,
          1.3498158245547796,
          1.3612816878639091,
          1.3727475511730387,
          1.3842134144821683,
          1.3956792777912979,
          1.4071451411004274,
          1.4186110044095568,
          1.4300768677186866,
          1.441542731027816,
          1.4530085943369455,
          1.464474457646075,
          1.4759403209552047,
          1.487406184264334,
          1.4988720475734638,
          1.5103379108825932,
          1.5218037741917227,
          1.5332696375008523,
          1.544735500809982,
          1.5562013641191115,
          1.567667227428241
         ],
         "yaxis": "y"
        },
        {
         "customdata": [
          [
           1.2822955760090176,
           "Linear reg Pipeline",
           "BKG_BOOKING_WINDOW_D"
          ],
          [
           1.2822955760090176,
           "Linear reg Pipeline",
           "BKG_BOOKING_WINDOW_D"
          ],
          [
           1.2822955760090176,
           "Linear reg Pipeline",
           "BKG_BOOKING_WINDOW_D"
          ],
          [
           1.2822955760090176,
           "Linear reg Pipeline",
           "BKG_BOOKING_WINDOW_D"
          ],
          [
           1.2822955760090176,
           "Linear reg Pipeline",
           "BKG_BOOKING_WINDOW_D"
          ],
          [
           1.2822955760090176,
           "Linear reg Pipeline",
           "BKG_BOOKING_WINDOW_D"
          ],
          [
           1.2822955760090176,
           "Linear reg Pipeline",
           "BKG_BOOKING_WINDOW_D"
          ],
          [
           1.2822955760090176,
           "Linear reg Pipeline",
           "BKG_BOOKING_WINDOW_D"
          ],
          [
           1.2822955760090176,
           "Linear reg Pipeline",
           "BKG_BOOKING_WINDOW_D"
          ],
          [
           1.2822955760090176,
           "Linear reg Pipeline",
           "BKG_BOOKING_WINDOW_D"
          ],
          [
           1.2822955760090176,
           "Linear reg Pipeline",
           "BKG_BOOKING_WINDOW_D"
          ],
          [
           1.2822955760090176,
           "Linear reg Pipeline",
           "BKG_BOOKING_WINDOW_D"
          ],
          [
           1.2822955760090176,
           "Linear reg Pipeline",
           "BKG_BOOKING_WINDOW_D"
          ],
          [
           1.2822955760090176,
           "Linear reg Pipeline",
           "BKG_BOOKING_WINDOW_D"
          ],
          [
           1.2822955760090176,
           "Linear reg Pipeline",
           "BKG_BOOKING_WINDOW_D"
          ],
          [
           1.2822955760090176,
           "Linear reg Pipeline",
           "BKG_BOOKING_WINDOW_D"
          ],
          [
           1.2822955760090176,
           "Linear reg Pipeline",
           "BKG_BOOKING_WINDOW_D"
          ],
          [
           1.2822955760090176,
           "Linear reg Pipeline",
           "BKG_BOOKING_WINDOW_D"
          ],
          [
           1.2822955760090176,
           "Linear reg Pipeline",
           "BKG_BOOKING_WINDOW_D"
          ],
          [
           1.2822955760090176,
           "Linear reg Pipeline",
           "BKG_BOOKING_WINDOW_D"
          ],
          [
           1.2822955760090176,
           "Linear reg Pipeline",
           "BKG_BOOKING_WINDOW_D"
          ],
          [
           1.2822955760090176,
           "Linear reg Pipeline",
           "BKG_BOOKING_WINDOW_D"
          ],
          [
           1.2822955760090176,
           "Linear reg Pipeline",
           "BKG_BOOKING_WINDOW_D"
          ],
          [
           1.2822955760090176,
           "Linear reg Pipeline",
           "BKG_BOOKING_WINDOW_D"
          ],
          [
           1.2822955760090176,
           "Linear reg Pipeline",
           "BKG_BOOKING_WINDOW_D"
          ],
          [
           1.2822955760090176,
           "Linear reg Pipeline",
           "BKG_BOOKING_WINDOW_D"
          ],
          [
           1.2822955760090176,
           "Linear reg Pipeline",
           "BKG_BOOKING_WINDOW_D"
          ],
          [
           1.2822955760090176,
           "Linear reg Pipeline",
           "BKG_BOOKING_WINDOW_D"
          ],
          [
           1.2822955760090176,
           "Linear reg Pipeline",
           "BKG_BOOKING_WINDOW_D"
          ],
          [
           1.2822955760090176,
           "Linear reg Pipeline",
           "BKG_BOOKING_WINDOW_D"
          ],
          [
           1.2822955760090176,
           "Linear reg Pipeline",
           "BKG_BOOKING_WINDOW_D"
          ],
          [
           1.2822955760090176,
           "Linear reg Pipeline",
           "BKG_BOOKING_WINDOW_D"
          ],
          [
           1.2822955760090176,
           "Linear reg Pipeline",
           "BKG_BOOKING_WINDOW_D"
          ],
          [
           1.2822955760090176,
           "Linear reg Pipeline",
           "BKG_BOOKING_WINDOW_D"
          ],
          [
           1.2822955760090176,
           "Linear reg Pipeline",
           "BKG_BOOKING_WINDOW_D"
          ],
          [
           1.2822955760090176,
           "Linear reg Pipeline",
           "BKG_BOOKING_WINDOW_D"
          ],
          [
           1.2822955760090176,
           "Linear reg Pipeline",
           "BKG_BOOKING_WINDOW_D"
          ],
          [
           1.2822955760090176,
           "Linear reg Pipeline",
           "BKG_BOOKING_WINDOW_D"
          ],
          [
           1.2822955760090176,
           "Linear reg Pipeline",
           "BKG_BOOKING_WINDOW_D"
          ],
          [
           1.2822955760090176,
           "Linear reg Pipeline",
           "BKG_BOOKING_WINDOW_D"
          ],
          [
           1.2822955760090176,
           "Linear reg Pipeline",
           "BKG_BOOKING_WINDOW_D"
          ],
          [
           1.2822955760090176,
           "Linear reg Pipeline",
           "BKG_BOOKING_WINDOW_D"
          ],
          [
           1.2822955760090176,
           "Linear reg Pipeline",
           "BKG_BOOKING_WINDOW_D"
          ],
          [
           1.2822955760090176,
           "Linear reg Pipeline",
           "BKG_BOOKING_WINDOW_D"
          ],
          [
           1.2822955760090176,
           "Linear reg Pipeline",
           "BKG_BOOKING_WINDOW_D"
          ],
          [
           1.2822955760090176,
           "Linear reg Pipeline",
           "BKG_BOOKING_WINDOW_D"
          ],
          [
           1.2822955760090176,
           "Linear reg Pipeline",
           "BKG_BOOKING_WINDOW_D"
          ],
          [
           1.2822955760090176,
           "Linear reg Pipeline",
           "BKG_BOOKING_WINDOW_D"
          ],
          [
           1.2822955760090176,
           "Linear reg Pipeline",
           "BKG_BOOKING_WINDOW_D"
          ],
          [
           1.2822955760090176,
           "Linear reg Pipeline",
           "BKG_BOOKING_WINDOW_D"
          ],
          [
           1.2822955760090176,
           "Linear reg Pipeline",
           "BKG_BOOKING_WINDOW_D"
          ],
          [
           1.2822955760090176,
           "Linear reg Pipeline",
           "BKG_BOOKING_WINDOW_D"
          ],
          [
           1.2822955760090176,
           "Linear reg Pipeline",
           "BKG_BOOKING_WINDOW_D"
          ],
          [
           1.2822955760090176,
           "Linear reg Pipeline",
           "BKG_BOOKING_WINDOW_D"
          ],
          [
           1.2822955760090176,
           "Linear reg Pipeline",
           "BKG_BOOKING_WINDOW_D"
          ],
          [
           1.2822955760090176,
           "Linear reg Pipeline",
           "BKG_BOOKING_WINDOW_D"
          ],
          [
           1.2822955760090176,
           "Linear reg Pipeline",
           "BKG_BOOKING_WINDOW_D"
          ],
          [
           1.2822955760090176,
           "Linear reg Pipeline",
           "BKG_BOOKING_WINDOW_D"
          ],
          [
           1.2822955760090176,
           "Linear reg Pipeline",
           "BKG_BOOKING_WINDOW_D"
          ],
          [
           1.2822955760090176,
           "Linear reg Pipeline",
           "BKG_BOOKING_WINDOW_D"
          ],
          [
           1.2822955760090176,
           "Linear reg Pipeline",
           "BKG_BOOKING_WINDOW_D"
          ],
          [
           1.2822955760090176,
           "Linear reg Pipeline",
           "BKG_BOOKING_WINDOW_D"
          ],
          [
           1.2822955760090176,
           "Linear reg Pipeline",
           "BKG_BOOKING_WINDOW_D"
          ],
          [
           1.2822955760090176,
           "Linear reg Pipeline",
           "BKG_BOOKING_WINDOW_D"
          ],
          [
           1.2822955760090176,
           "Linear reg Pipeline",
           "BKG_BOOKING_WINDOW_D"
          ],
          [
           1.2822955760090176,
           "Linear reg Pipeline",
           "BKG_BOOKING_WINDOW_D"
          ],
          [
           1.2822955760090176,
           "Linear reg Pipeline",
           "BKG_BOOKING_WINDOW_D"
          ],
          [
           1.2822955760090176,
           "Linear reg Pipeline",
           "BKG_BOOKING_WINDOW_D"
          ],
          [
           1.2822955760090176,
           "Linear reg Pipeline",
           "BKG_BOOKING_WINDOW_D"
          ],
          [
           1.2822955760090176,
           "Linear reg Pipeline",
           "BKG_BOOKING_WINDOW_D"
          ],
          [
           1.2822955760090176,
           "Linear reg Pipeline",
           "BKG_BOOKING_WINDOW_D"
          ],
          [
           1.2822955760090176,
           "Linear reg Pipeline",
           "BKG_BOOKING_WINDOW_D"
          ],
          [
           1.2822955760090176,
           "Linear reg Pipeline",
           "BKG_BOOKING_WINDOW_D"
          ],
          [
           1.2822955760090176,
           "Linear reg Pipeline",
           "BKG_BOOKING_WINDOW_D"
          ],
          [
           1.2822955760090176,
           "Linear reg Pipeline",
           "BKG_BOOKING_WINDOW_D"
          ],
          [
           1.2822955760090176,
           "Linear reg Pipeline",
           "BKG_BOOKING_WINDOW_D"
          ],
          [
           1.2822955760090176,
           "Linear reg Pipeline",
           "BKG_BOOKING_WINDOW_D"
          ],
          [
           1.2822955760090176,
           "Linear reg Pipeline",
           "BKG_BOOKING_WINDOW_D"
          ],
          [
           1.2822955760090176,
           "Linear reg Pipeline",
           "BKG_BOOKING_WINDOW_D"
          ],
          [
           1.2822955760090176,
           "Linear reg Pipeline",
           "BKG_BOOKING_WINDOW_D"
          ],
          [
           1.2822955760090176,
           "Linear reg Pipeline",
           "BKG_BOOKING_WINDOW_D"
          ],
          [
           1.2822955760090176,
           "Linear reg Pipeline",
           "BKG_BOOKING_WINDOW_D"
          ],
          [
           1.2822955760090176,
           "Linear reg Pipeline",
           "BKG_BOOKING_WINDOW_D"
          ],
          [
           1.2822955760090176,
           "Linear reg Pipeline",
           "BKG_BOOKING_WINDOW_D"
          ],
          [
           1.2822955760090176,
           "Linear reg Pipeline",
           "BKG_BOOKING_WINDOW_D"
          ],
          [
           1.2822955760090176,
           "Linear reg Pipeline",
           "BKG_BOOKING_WINDOW_D"
          ],
          [
           1.2822955760090176,
           "Linear reg Pipeline",
           "BKG_BOOKING_WINDOW_D"
          ],
          [
           1.2822955760090176,
           "Linear reg Pipeline",
           "BKG_BOOKING_WINDOW_D"
          ],
          [
           1.2822955760090176,
           "Linear reg Pipeline",
           "BKG_BOOKING_WINDOW_D"
          ],
          [
           1.2822955760090176,
           "Linear reg Pipeline",
           "BKG_BOOKING_WINDOW_D"
          ],
          [
           1.2822955760090176,
           "Linear reg Pipeline",
           "BKG_BOOKING_WINDOW_D"
          ],
          [
           1.2822955760090176,
           "Linear reg Pipeline",
           "BKG_BOOKING_WINDOW_D"
          ],
          [
           1.2822955760090176,
           "Linear reg Pipeline",
           "BKG_BOOKING_WINDOW_D"
          ],
          [
           1.2822955760090176,
           "Linear reg Pipeline",
           "BKG_BOOKING_WINDOW_D"
          ],
          [
           1.2822955760090176,
           "Linear reg Pipeline",
           "BKG_BOOKING_WINDOW_D"
          ],
          [
           1.2822955760090176,
           "Linear reg Pipeline",
           "BKG_BOOKING_WINDOW_D"
          ],
          [
           1.2822955760090176,
           "Linear reg Pipeline",
           "BKG_BOOKING_WINDOW_D"
          ],
          [
           1.2822955760090176,
           "Linear reg Pipeline",
           "BKG_BOOKING_WINDOW_D"
          ],
          [
           1.2822955760090176,
           "Linear reg Pipeline",
           "BKG_BOOKING_WINDOW_D"
          ],
          [
           1.2822955760090176,
           "Linear reg Pipeline",
           "BKG_BOOKING_WINDOW_D"
          ],
          [
           1.2822955760090176,
           "Linear reg Pipeline",
           "BKG_BOOKING_WINDOW_D"
          ]
         ],
         "hovertemplate": "<b>%{hovertext}</b><br><br>prediction=%{y:.3f}<br>mean_prediction=%{customdata[0]:.3f}<extra></extra>",
         "hovertext": [
          "Linear reg Pipeline",
          "Linear reg Pipeline",
          "Linear reg Pipeline",
          "Linear reg Pipeline",
          "Linear reg Pipeline",
          "Linear reg Pipeline",
          "Linear reg Pipeline",
          "Linear reg Pipeline",
          "Linear reg Pipeline",
          "Linear reg Pipeline",
          "Linear reg Pipeline",
          "Linear reg Pipeline",
          "Linear reg Pipeline",
          "Linear reg Pipeline",
          "Linear reg Pipeline",
          "Linear reg Pipeline",
          "Linear reg Pipeline",
          "Linear reg Pipeline",
          "Linear reg Pipeline",
          "Linear reg Pipeline",
          "Linear reg Pipeline",
          "Linear reg Pipeline",
          "Linear reg Pipeline",
          "Linear reg Pipeline",
          "Linear reg Pipeline",
          "Linear reg Pipeline",
          "Linear reg Pipeline",
          "Linear reg Pipeline",
          "Linear reg Pipeline",
          "Linear reg Pipeline",
          "Linear reg Pipeline",
          "Linear reg Pipeline",
          "Linear reg Pipeline",
          "Linear reg Pipeline",
          "Linear reg Pipeline",
          "Linear reg Pipeline",
          "Linear reg Pipeline",
          "Linear reg Pipeline",
          "Linear reg Pipeline",
          "Linear reg Pipeline",
          "Linear reg Pipeline",
          "Linear reg Pipeline",
          "Linear reg Pipeline",
          "Linear reg Pipeline",
          "Linear reg Pipeline",
          "Linear reg Pipeline",
          "Linear reg Pipeline",
          "Linear reg Pipeline",
          "Linear reg Pipeline",
          "Linear reg Pipeline",
          "Linear reg Pipeline",
          "Linear reg Pipeline",
          "Linear reg Pipeline",
          "Linear reg Pipeline",
          "Linear reg Pipeline",
          "Linear reg Pipeline",
          "Linear reg Pipeline",
          "Linear reg Pipeline",
          "Linear reg Pipeline",
          "Linear reg Pipeline",
          "Linear reg Pipeline",
          "Linear reg Pipeline",
          "Linear reg Pipeline",
          "Linear reg Pipeline",
          "Linear reg Pipeline",
          "Linear reg Pipeline",
          "Linear reg Pipeline",
          "Linear reg Pipeline",
          "Linear reg Pipeline",
          "Linear reg Pipeline",
          "Linear reg Pipeline",
          "Linear reg Pipeline",
          "Linear reg Pipeline",
          "Linear reg Pipeline",
          "Linear reg Pipeline",
          "Linear reg Pipeline",
          "Linear reg Pipeline",
          "Linear reg Pipeline",
          "Linear reg Pipeline",
          "Linear reg Pipeline",
          "Linear reg Pipeline",
          "Linear reg Pipeline",
          "Linear reg Pipeline",
          "Linear reg Pipeline",
          "Linear reg Pipeline",
          "Linear reg Pipeline",
          "Linear reg Pipeline",
          "Linear reg Pipeline",
          "Linear reg Pipeline",
          "Linear reg Pipeline",
          "Linear reg Pipeline",
          "Linear reg Pipeline",
          "Linear reg Pipeline",
          "Linear reg Pipeline",
          "Linear reg Pipeline",
          "Linear reg Pipeline",
          "Linear reg Pipeline",
          "Linear reg Pipeline",
          "Linear reg Pipeline",
          "Linear reg Pipeline",
          "Linear reg Pipeline"
         ],
         "legendgroup": "Linear reg Pipeline",
         "line": {
          "color": "#46bac2",
          "dash": "solid",
          "width": 2
         },
         "marker": {
          "symbol": "circle"
         },
         "mode": "lines",
         "name": "Linear reg Pipeline",
         "opacity": 1,
         "orientation": "v",
         "showlegend": false,
         "type": "scatter",
         "x": [
          0,
          1.38,
          2.76,
          4.14,
          5.52,
          6.8999999999999995,
          8.28,
          9.66,
          11.04,
          12.419999999999998,
          13.799999999999999,
          15.18,
          16.56,
          17.939999999999998,
          19.32,
          20.7,
          22.08,
          23.459999999999997,
          24.839999999999996,
          26.22,
          27.599999999999998,
          28.979999999999997,
          30.36,
          31.74,
          33.12,
          34.5,
          35.879999999999995,
          37.26,
          38.64,
          40.019999999999996,
          41.4,
          42.779999999999994,
          44.16,
          45.54,
          46.919999999999995,
          48.3,
          49.67999999999999,
          51.059999999999995,
          52.44,
          53.81999999999999,
          55.199999999999996,
          56.58,
          57.959999999999994,
          59.339999999999996,
          60.72,
          62.099999999999994,
          63.48,
          64.86,
          66.24,
          67.61999999999999,
          69,
          70.38,
          71.75999999999999,
          73.14,
          74.52,
          75.89999999999999,
          77.28,
          78.66,
          80.03999999999999,
          81.41999999999999,
          82.8,
          84.17999999999999,
          85.55999999999999,
          86.94,
          88.32,
          89.69999999999999,
          91.08,
          92.46,
          93.83999999999999,
          95.22,
          96.6,
          97.97999999999999,
          99.35999999999999,
          100.74,
          102.11999999999999,
          103.49999999999999,
          104.88,
          106.25999999999999,
          107.63999999999999,
          109.02,
          110.39999999999999,
          111.77999999999999,
          113.16,
          114.53999999999999,
          115.91999999999999,
          117.3,
          118.67999999999999,
          120.05999999999999,
          121.44,
          122.82,
          124.19999999999999,
          125.57999999999998,
          126.96,
          128.34,
          129.72,
          131.1,
          132.48,
          133.85999999999999,
          135.23999999999998,
          136.61999999999998,
          138
         ],
         "xaxis": "x2",
         "y": [
          1.1618321031409535,
          1.165640279512928,
          1.1694484558849025,
          1.173256632256877,
          1.1770648086288515,
          1.1808729850008262,
          1.1846811613728006,
          1.1884893377447752,
          1.1922975141167496,
          1.196105690488724,
          1.1999138668606986,
          1.203722043232673,
          1.2075302196046473,
          1.211338395976622,
          1.2151465723485966,
          1.2189547487205712,
          1.2227629250925456,
          1.22657110146452,
          1.2303792778364946,
          1.234187454208469,
          1.2379956305804434,
          1.241803806952418,
          1.2456119833243926,
          1.2494201596963672,
          1.2532283360683416,
          1.2570365124403162,
          1.2608446888122906,
          1.264652865184265,
          1.2684610415562396,
          1.272269217928214,
          1.2760773943001886,
          1.2798855706721632,
          1.2836937470441376,
          1.2875019234161122,
          1.2913100997880866,
          1.295118276160061,
          1.2989264525320356,
          1.30273462890401,
          1.3065428052759847,
          1.3103509816479593,
          1.3141591580199337,
          1.3179673343919083,
          1.3217755107638827,
          1.3255836871358573,
          1.3293918635078317,
          1.333200039879806,
          1.3370082162517807,
          1.340816392623755,
          1.3446245689957297,
          1.3484327453677043,
          1.3522409217396787,
          1.3560490981116533,
          1.3598572744836277,
          1.363665450855602,
          1.3674736272275767,
          1.371281803599551,
          1.3750899799715257,
          1.3788981563435003,
          1.3827063327154747,
          1.3865145090874493,
          1.3903226854594237,
          1.3941308618313981,
          1.3979390382033727,
          1.4017472145753471,
          1.4055553909473217,
          1.4093635673192964,
          1.413171743691271,
          1.4169799200632454,
          1.4207880964352197,
          1.4245962728071944,
          1.4284044491791688,
          1.4322126255511431,
          1.4360208019231175,
          1.4398289782950924,
          1.443637154667067,
          1.4474453310390414,
          1.451253507411016,
          1.4550616837829904,
          1.4588698601549648,
          1.4626780365269392,
          1.4664862128989138,
          1.4702943892708882,
          1.4741025656428628,
          1.4779107420148374,
          1.481718918386812,
          1.4855270947587864,
          1.489335271130761,
          1.4931434475027354,
          1.4969516238747098,
          1.5007598002466842,
          1.5045679766186588,
          1.5083761529906334,
          1.512184329362608,
          1.5159925057345824,
          1.519800682106557,
          1.5236088584785314,
          1.5274170348505058,
          1.5312252112224802,
          1.5350333875944548,
          1.5388415639664295,
          1.542649740338404
         ],
         "yaxis": "y2"
        }
       ],
       "layout": {
        "annotations": [
         {
          "font": {
           "size": 13
          },
          "showarrow": false,
          "text": "FCP_FLIGHT_DISTANCE",
          "x": 0.2375,
          "xanchor": "center",
          "xref": "paper",
          "y": 1,
          "yanchor": "bottom",
          "yref": "paper"
         },
         {
          "font": {
           "size": 13
          },
          "showarrow": false,
          "text": "BKG_BOOKING_WINDOW_D",
          "x": 0.7625,
          "xanchor": "center",
          "xref": "paper",
          "y": 1,
          "yanchor": "bottom",
          "yref": "paper"
         },
         {
          "font": {
           "size": 13
          },
          "showarrow": false,
          "text": "prediction",
          "textangle": -90,
          "x": -0.07,
          "xref": "paper",
          "y": 0.5,
          "yref": "paper"
         }
        ],
        "font": {
         "color": "#371ea3"
        },
        "height": 489,
        "hovermode": "x unified",
        "legend": {
         "font": {
          "size": 11
         },
         "itemsizing": "constant",
         "orientation": "h",
         "title": {
          "font": {
           "size": 12
          },
          "text": "label"
         },
         "tracegroupgap": 0,
         "x": 1,
         "xanchor": "right",
         "y": 1.0613496932515338,
         "yanchor": "bottom"
        },
        "margin": {
         "b": 71,
         "r": 30,
         "t": 78
        },
        "template": {
         "data": {
          "scatter": [
           {
            "type": "scatter"
           }
          ]
         }
        },
        "title": {
         "font": {
          "size": 16
         },
         "text": "Aggregated Profiles",
         "x": 0.15
        },
        "xaxis": {
         "anchor": "y",
         "automargin": true,
         "domain": [
          0,
          0.475
         ],
         "fixedrange": true,
         "gridwidth": 2,
         "showticklabels": true,
         "tickcolor": "white",
         "ticklen": 3,
         "ticks": "outside",
         "title": {
          "text": ""
         },
         "type": "linear",
         "zeroline": false
        },
        "xaxis2": {
         "anchor": "y2",
         "automargin": true,
         "domain": [
          0.525,
          1
         ],
         "fixedrange": true,
         "gridwidth": 2,
         "showticklabels": true,
         "tickcolor": "white",
         "ticklen": 3,
         "ticks": "outside",
         "title": {
          "text": ""
         },
         "type": "linear",
         "zeroline": false
        },
        "yaxis": {
         "anchor": "x",
         "automargin": true,
         "domain": [
          0,
          1
         ],
         "fixedrange": true,
         "gridwidth": 2,
         "range": [
          0.3064222634239914,
          1.6823258605195366
         ],
         "tickcolor": "white",
         "ticklen": 3,
         "ticks": "outside",
         "title": {
          "text": ""
         },
         "type": "linear",
         "zeroline": false
        },
        "yaxis2": {
         "anchor": "x2",
         "automargin": true,
         "domain": [
          0,
          1
         ],
         "fixedrange": true,
         "gridwidth": 2,
         "matches": "y",
         "range": [
          0.3064222634239914,
          1.6823258605195366
         ],
         "showticklabels": false,
         "tickcolor": "white",
         "ticklen": 3,
         "ticks": "outside",
         "title": {
          "text": ""
         },
         "type": "linear",
         "zeroline": false
        }
       }
      },
      "text/html": [
       "<div>                            <div id=\"5f1ac5ed-3cb4-467f-87f0-b90a776fc590\" class=\"plotly-graph-div\" style=\"height:489px; width:100%;\"></div>            <script type=\"text/javascript\">                require([\"plotly\"], function(Plotly) {                    window.PLOTLYENV=window.PLOTLYENV || {};                                    if (document.getElementById(\"5f1ac5ed-3cb4-467f-87f0-b90a776fc590\")) {                    Plotly.newPlot(                        \"5f1ac5ed-3cb4-467f-87f0-b90a776fc590\",                        [{\"customdata\":[[1.2822955760090176,\"Linear reg Pipeline\",\"FCP_FLIGHT_DISTANCE\"],[1.2822955760090176,\"Linear reg Pipeline\",\"FCP_FLIGHT_DISTANCE\"],[1.2822955760090176,\"Linear reg Pipeline\",\"FCP_FLIGHT_DISTANCE\"],[1.2822955760090176,\"Linear reg Pipeline\",\"FCP_FLIGHT_DISTANCE\"],[1.2822955760090176,\"Linear reg Pipeline\",\"FCP_FLIGHT_DISTANCE\"],[1.2822955760090176,\"Linear reg Pipeline\",\"FCP_FLIGHT_DISTANCE\"],[1.2822955760090176,\"Linear reg Pipeline\",\"FCP_FLIGHT_DISTANCE\"],[1.2822955760090176,\"Linear reg Pipeline\",\"FCP_FLIGHT_DISTANCE\"],[1.2822955760090176,\"Linear reg Pipeline\",\"FCP_FLIGHT_DISTANCE\"],[1.2822955760090176,\"Linear reg Pipeline\",\"FCP_FLIGHT_DISTANCE\"],[1.2822955760090176,\"Linear reg Pipeline\",\"FCP_FLIGHT_DISTANCE\"],[1.2822955760090176,\"Linear reg Pipeline\",\"FCP_FLIGHT_DISTANCE\"],[1.2822955760090176,\"Linear reg Pipeline\",\"FCP_FLIGHT_DISTANCE\"],[1.2822955760090176,\"Linear reg Pipeline\",\"FCP_FLIGHT_DISTANCE\"],[1.2822955760090176,\"Linear reg Pipeline\",\"FCP_FLIGHT_DISTANCE\"],[1.2822955760090176,\"Linear reg Pipeline\",\"FCP_FLIGHT_DISTANCE\"],[1.2822955760090176,\"Linear reg Pipeline\",\"FCP_FLIGHT_DISTANCE\"],[1.2822955760090176,\"Linear reg Pipeline\",\"FCP_FLIGHT_DISTANCE\"],[1.2822955760090176,\"Linear reg Pipeline\",\"FCP_FLIGHT_DISTANCE\"],[1.2822955760090176,\"Linear reg Pipeline\",\"FCP_FLIGHT_DISTANCE\"],[1.2822955760090176,\"Linear reg Pipeline\",\"FCP_FLIGHT_DISTANCE\"],[1.2822955760090176,\"Linear reg Pipeline\",\"FCP_FLIGHT_DISTANCE\"],[1.2822955760090176,\"Linear reg Pipeline\",\"FCP_FLIGHT_DISTANCE\"],[1.2822955760090176,\"Linear reg Pipeline\",\"FCP_FLIGHT_DISTANCE\"],[1.2822955760090176,\"Linear reg Pipeline\",\"FCP_FLIGHT_DISTANCE\"],[1.2822955760090176,\"Linear reg Pipeline\",\"FCP_FLIGHT_DISTANCE\"],[1.2822955760090176,\"Linear reg Pipeline\",\"FCP_FLIGHT_DISTANCE\"],[1.2822955760090176,\"Linear reg Pipeline\",\"FCP_FLIGHT_DISTANCE\"],[1.2822955760090176,\"Linear reg Pipeline\",\"FCP_FLIGHT_DISTANCE\"],[1.2822955760090176,\"Linear reg Pipeline\",\"FCP_FLIGHT_DISTANCE\"],[1.2822955760090176,\"Linear reg Pipeline\",\"FCP_FLIGHT_DISTANCE\"],[1.2822955760090176,\"Linear reg Pipeline\",\"FCP_FLIGHT_DISTANCE\"],[1.2822955760090176,\"Linear reg Pipeline\",\"FCP_FLIGHT_DISTANCE\"],[1.2822955760090176,\"Linear reg Pipeline\",\"FCP_FLIGHT_DISTANCE\"],[1.2822955760090176,\"Linear reg Pipeline\",\"FCP_FLIGHT_DISTANCE\"],[1.2822955760090176,\"Linear reg Pipeline\",\"FCP_FLIGHT_DISTANCE\"],[1.2822955760090176,\"Linear reg Pipeline\",\"FCP_FLIGHT_DISTANCE\"],[1.2822955760090176,\"Linear reg Pipeline\",\"FCP_FLIGHT_DISTANCE\"],[1.2822955760090176,\"Linear reg Pipeline\",\"FCP_FLIGHT_DISTANCE\"],[1.2822955760090176,\"Linear reg Pipeline\",\"FCP_FLIGHT_DISTANCE\"],[1.2822955760090176,\"Linear reg Pipeline\",\"FCP_FLIGHT_DISTANCE\"],[1.2822955760090176,\"Linear reg Pipeline\",\"FCP_FLIGHT_DISTANCE\"],[1.2822955760090176,\"Linear reg Pipeline\",\"FCP_FLIGHT_DISTANCE\"],[1.2822955760090176,\"Linear reg Pipeline\",\"FCP_FLIGHT_DISTANCE\"],[1.2822955760090176,\"Linear reg Pipeline\",\"FCP_FLIGHT_DISTANCE\"],[1.2822955760090176,\"Linear reg Pipeline\",\"FCP_FLIGHT_DISTANCE\"],[1.2822955760090176,\"Linear reg Pipeline\",\"FCP_FLIGHT_DISTANCE\"],[1.2822955760090176,\"Linear reg Pipeline\",\"FCP_FLIGHT_DISTANCE\"],[1.2822955760090176,\"Linear reg Pipeline\",\"FCP_FLIGHT_DISTANCE\"],[1.2822955760090176,\"Linear reg Pipeline\",\"FCP_FLIGHT_DISTANCE\"],[1.2822955760090176,\"Linear reg Pipeline\",\"FCP_FLIGHT_DISTANCE\"],[1.2822955760090176,\"Linear reg Pipeline\",\"FCP_FLIGHT_DISTANCE\"],[1.2822955760090176,\"Linear reg Pipeline\",\"FCP_FLIGHT_DISTANCE\"],[1.2822955760090176,\"Linear reg Pipeline\",\"FCP_FLIGHT_DISTANCE\"],[1.2822955760090176,\"Linear reg Pipeline\",\"FCP_FLIGHT_DISTANCE\"],[1.2822955760090176,\"Linear reg Pipeline\",\"FCP_FLIGHT_DISTANCE\"],[1.2822955760090176,\"Linear reg Pipeline\",\"FCP_FLIGHT_DISTANCE\"],[1.2822955760090176,\"Linear reg Pipeline\",\"FCP_FLIGHT_DISTANCE\"],[1.2822955760090176,\"Linear reg Pipeline\",\"FCP_FLIGHT_DISTANCE\"],[1.2822955760090176,\"Linear reg Pipeline\",\"FCP_FLIGHT_DISTANCE\"],[1.2822955760090176,\"Linear reg Pipeline\",\"FCP_FLIGHT_DISTANCE\"],[1.2822955760090176,\"Linear reg Pipeline\",\"FCP_FLIGHT_DISTANCE\"],[1.2822955760090176,\"Linear reg Pipeline\",\"FCP_FLIGHT_DISTANCE\"],[1.2822955760090176,\"Linear reg Pipeline\",\"FCP_FLIGHT_DISTANCE\"],[1.2822955760090176,\"Linear reg Pipeline\",\"FCP_FLIGHT_DISTANCE\"],[1.2822955760090176,\"Linear reg Pipeline\",\"FCP_FLIGHT_DISTANCE\"],[1.2822955760090176,\"Linear reg Pipeline\",\"FCP_FLIGHT_DISTANCE\"],[1.2822955760090176,\"Linear reg Pipeline\",\"FCP_FLIGHT_DISTANCE\"],[1.2822955760090176,\"Linear reg Pipeline\",\"FCP_FLIGHT_DISTANCE\"],[1.2822955760090176,\"Linear reg Pipeline\",\"FCP_FLIGHT_DISTANCE\"],[1.2822955760090176,\"Linear reg Pipeline\",\"FCP_FLIGHT_DISTANCE\"],[1.2822955760090176,\"Linear reg Pipeline\",\"FCP_FLIGHT_DISTANCE\"],[1.2822955760090176,\"Linear reg Pipeline\",\"FCP_FLIGHT_DISTANCE\"],[1.2822955760090176,\"Linear reg Pipeline\",\"FCP_FLIGHT_DISTANCE\"],[1.2822955760090176,\"Linear reg Pipeline\",\"FCP_FLIGHT_DISTANCE\"],[1.2822955760090176,\"Linear reg Pipeline\",\"FCP_FLIGHT_DISTANCE\"],[1.2822955760090176,\"Linear reg Pipeline\",\"FCP_FLIGHT_DISTANCE\"],[1.2822955760090176,\"Linear reg Pipeline\",\"FCP_FLIGHT_DISTANCE\"],[1.2822955760090176,\"Linear reg Pipeline\",\"FCP_FLIGHT_DISTANCE\"],[1.2822955760090176,\"Linear reg Pipeline\",\"FCP_FLIGHT_DISTANCE\"],[1.2822955760090176,\"Linear reg Pipeline\",\"FCP_FLIGHT_DISTANCE\"],[1.2822955760090176,\"Linear reg Pipeline\",\"FCP_FLIGHT_DISTANCE\"],[1.2822955760090176,\"Linear reg Pipeline\",\"FCP_FLIGHT_DISTANCE\"],[1.2822955760090176,\"Linear reg Pipeline\",\"FCP_FLIGHT_DISTANCE\"],[1.2822955760090176,\"Linear reg Pipeline\",\"FCP_FLIGHT_DISTANCE\"],[1.2822955760090176,\"Linear reg Pipeline\",\"FCP_FLIGHT_DISTANCE\"],[1.2822955760090176,\"Linear reg Pipeline\",\"FCP_FLIGHT_DISTANCE\"],[1.2822955760090176,\"Linear reg Pipeline\",\"FCP_FLIGHT_DISTANCE\"],[1.2822955760090176,\"Linear reg Pipeline\",\"FCP_FLIGHT_DISTANCE\"],[1.2822955760090176,\"Linear reg Pipeline\",\"FCP_FLIGHT_DISTANCE\"],[1.2822955760090176,\"Linear reg Pipeline\",\"FCP_FLIGHT_DISTANCE\"],[1.2822955760090176,\"Linear reg Pipeline\",\"FCP_FLIGHT_DISTANCE\"],[1.2822955760090176,\"Linear reg Pipeline\",\"FCP_FLIGHT_DISTANCE\"],[1.2822955760090176,\"Linear reg Pipeline\",\"FCP_FLIGHT_DISTANCE\"],[1.2822955760090176,\"Linear reg Pipeline\",\"FCP_FLIGHT_DISTANCE\"],[1.2822955760090176,\"Linear reg Pipeline\",\"FCP_FLIGHT_DISTANCE\"],[1.2822955760090176,\"Linear reg Pipeline\",\"FCP_FLIGHT_DISTANCE\"],[1.2822955760090176,\"Linear reg Pipeline\",\"FCP_FLIGHT_DISTANCE\"],[1.2822955760090176,\"Linear reg Pipeline\",\"FCP_FLIGHT_DISTANCE\"],[1.2822955760090176,\"Linear reg Pipeline\",\"FCP_FLIGHT_DISTANCE\"],[1.2822955760090176,\"Linear reg Pipeline\",\"FCP_FLIGHT_DISTANCE\"]],\"hovertemplate\":\"<b>%{hovertext}</b><br><br>prediction=%{y:.3f}<br>mean_prediction=%{customdata[0]:.3f}<extra></extra>\",\"hovertext\":[\"Linear reg Pipeline\",\"Linear reg Pipeline\",\"Linear reg Pipeline\",\"Linear reg Pipeline\",\"Linear reg Pipeline\",\"Linear reg Pipeline\",\"Linear reg Pipeline\",\"Linear reg Pipeline\",\"Linear reg Pipeline\",\"Linear reg Pipeline\",\"Linear reg Pipeline\",\"Linear reg Pipeline\",\"Linear reg Pipeline\",\"Linear reg Pipeline\",\"Linear reg Pipeline\",\"Linear reg Pipeline\",\"Linear reg Pipeline\",\"Linear reg Pipeline\",\"Linear reg Pipeline\",\"Linear reg Pipeline\",\"Linear reg Pipeline\",\"Linear reg Pipeline\",\"Linear reg Pipeline\",\"Linear reg Pipeline\",\"Linear reg Pipeline\",\"Linear reg Pipeline\",\"Linear reg Pipeline\",\"Linear reg Pipeline\",\"Linear reg Pipeline\",\"Linear reg Pipeline\",\"Linear reg Pipeline\",\"Linear reg Pipeline\",\"Linear reg Pipeline\",\"Linear reg Pipeline\",\"Linear reg Pipeline\",\"Linear reg Pipeline\",\"Linear reg Pipeline\",\"Linear reg Pipeline\",\"Linear reg Pipeline\",\"Linear reg Pipeline\",\"Linear reg Pipeline\",\"Linear reg Pipeline\",\"Linear reg Pipeline\",\"Linear reg Pipeline\",\"Linear reg Pipeline\",\"Linear reg Pipeline\",\"Linear reg Pipeline\",\"Linear reg Pipeline\",\"Linear reg Pipeline\",\"Linear reg Pipeline\",\"Linear reg Pipeline\",\"Linear reg Pipeline\",\"Linear reg Pipeline\",\"Linear reg Pipeline\",\"Linear reg Pipeline\",\"Linear reg Pipeline\",\"Linear reg Pipeline\",\"Linear reg Pipeline\",\"Linear reg Pipeline\",\"Linear reg Pipeline\",\"Linear reg Pipeline\",\"Linear reg Pipeline\",\"Linear reg Pipeline\",\"Linear reg Pipeline\",\"Linear reg Pipeline\",\"Linear reg Pipeline\",\"Linear reg Pipeline\",\"Linear reg Pipeline\",\"Linear reg Pipeline\",\"Linear reg Pipeline\",\"Linear reg Pipeline\",\"Linear reg Pipeline\",\"Linear reg Pipeline\",\"Linear reg Pipeline\",\"Linear reg Pipeline\",\"Linear reg Pipeline\",\"Linear reg Pipeline\",\"Linear reg Pipeline\",\"Linear reg Pipeline\",\"Linear reg Pipeline\",\"Linear reg Pipeline\",\"Linear reg Pipeline\",\"Linear reg Pipeline\",\"Linear reg Pipeline\",\"Linear reg Pipeline\",\"Linear reg Pipeline\",\"Linear reg Pipeline\",\"Linear reg Pipeline\",\"Linear reg Pipeline\",\"Linear reg Pipeline\",\"Linear reg Pipeline\",\"Linear reg Pipeline\",\"Linear reg Pipeline\",\"Linear reg Pipeline\",\"Linear reg Pipeline\",\"Linear reg Pipeline\",\"Linear reg Pipeline\",\"Linear reg Pipeline\",\"Linear reg Pipeline\",\"Linear reg Pipeline\",\"Linear reg Pipeline\"],\"legendgroup\":\"Linear reg Pipeline\",\"line\":{\"color\":\"#46bac2\",\"dash\":\"solid\",\"width\":2},\"marker\":{\"symbol\":\"circle\"},\"mode\":\"lines\",\"name\":\"Linear reg Pipeline\",\"orientation\":\"v\",\"showlegend\":true,\"x\":[246.0,340.22,434.44,528.66,622.88,717.1,811.3199999999999,905.54,999.76,1093.98,1188.2,1282.42,1376.6399999999999,1470.86,1565.08,1659.3,1753.52,1847.74,1941.96,2036.18,2130.4,2224.62,2318.84,2413.06,2507.2799999999997,2601.5,2695.72,2789.94,2884.16,2978.38,3072.6,3166.82,3261.04,3355.2599999999998,3449.48,3543.7,3637.92,3732.14,3826.36,3920.58,4014.8,4109.02,4203.24,4297.46,4391.68,4485.9,4580.12,4674.34,4768.5599999999995,4862.78,4957.0,5051.22,5145.44,5239.66,5333.88,5428.1,5522.32,5616.54,5710.76,5804.98,5899.2,5993.42,6087.64,6181.86,6276.08,6370.3,6464.5199999999995,6558.74,6652.96,6747.18,6841.4,6935.62,7029.84,7124.0599999999995,7218.28,7312.5,7406.72,7500.94,7595.16,7689.38,7783.6,7877.82,7972.04,8066.26,8160.48,8254.7,8348.92,8443.14,8537.36,8631.58,8725.8,8820.02,8914.24,9008.46,9102.68,9196.9,9291.119999999999,9385.34,9479.56,9573.78,9668.0],\"xaxis\":\"x\",\"y\":[0.42108089651528685,0.4325467598244164,0.444012623133546,0.4554784864426755,0.46694434975180493,0.47841021306093456,0.4898760763700641,0.5013419396791936,0.5128078029883233,0.5242736662974528,0.5357395296065823,0.5472053929157118,0.5586712562248413,0.570137119533971,0.5816029828431004,0.59306884615223,0.6045347094613596,0.616000572770489,0.6274664360796186,0.6389322993887481,0.6503981626978778,0.6618640260070072,0.6733298893161368,0.6847957526252663,0.6962616159343957,0.7077274792435254,0.7191933425526549,0.7306592058617845,0.742125069170914,0.7535909324800436,0.7650567957891731,0.7765226590983026,0.7879885224074321,0.7994543857165617,0.8109202490256913,0.8223861123348207,0.8338519756439503,0.8453178389530799,0.8567837022622093,0.8682495655713389,0.8797154288804685,0.8911812921895982,0.9026471554987275,0.914113018807857,0.9255788821169868,0.9370447454261162,0.9485106087352458,0.9599764720443754,0.9714423353535047,0.9829081986626345,0.9943740619717639,1.0058399252808934,1.017305788590023,1.0287716518991525,1.0402375152082821,1.0517033785174117,1.063169241826541,1.0746351051356706,1.0861009684448002,1.0975668317539298,1.1090326950630593,1.1204985583721887,1.1319644216813183,1.1434302849904479,1.1548961482995774,1.166362011608707,1.1778278749178364,1.1892937382269662,1.2007596015360957,1.2122254648452253,1.2236913281543547,1.2351571914634842,1.2466230547726138,1.2580889180817434,1.269554781390873,1.2810206447000025,1.292486508009132,1.3039523713182615,1.315418234627391,1.3268840979365206,1.3383499612456502,1.3498158245547796,1.3612816878639091,1.3727475511730387,1.3842134144821683,1.3956792777912979,1.4071451411004274,1.4186110044095568,1.4300768677186866,1.441542731027816,1.4530085943369455,1.464474457646075,1.4759403209552047,1.487406184264334,1.4988720475734638,1.5103379108825932,1.5218037741917227,1.5332696375008523,1.544735500809982,1.5562013641191115,1.567667227428241],\"yaxis\":\"y\",\"type\":\"scatter\",\"opacity\":1},{\"customdata\":[[1.2822955760090176,\"Linear reg Pipeline\",\"BKG_BOOKING_WINDOW_D\"],[1.2822955760090176,\"Linear reg Pipeline\",\"BKG_BOOKING_WINDOW_D\"],[1.2822955760090176,\"Linear reg Pipeline\",\"BKG_BOOKING_WINDOW_D\"],[1.2822955760090176,\"Linear reg Pipeline\",\"BKG_BOOKING_WINDOW_D\"],[1.2822955760090176,\"Linear reg Pipeline\",\"BKG_BOOKING_WINDOW_D\"],[1.2822955760090176,\"Linear reg Pipeline\",\"BKG_BOOKING_WINDOW_D\"],[1.2822955760090176,\"Linear reg Pipeline\",\"BKG_BOOKING_WINDOW_D\"],[1.2822955760090176,\"Linear reg Pipeline\",\"BKG_BOOKING_WINDOW_D\"],[1.2822955760090176,\"Linear reg Pipeline\",\"BKG_BOOKING_WINDOW_D\"],[1.2822955760090176,\"Linear reg Pipeline\",\"BKG_BOOKING_WINDOW_D\"],[1.2822955760090176,\"Linear reg Pipeline\",\"BKG_BOOKING_WINDOW_D\"],[1.2822955760090176,\"Linear reg Pipeline\",\"BKG_BOOKING_WINDOW_D\"],[1.2822955760090176,\"Linear reg Pipeline\",\"BKG_BOOKING_WINDOW_D\"],[1.2822955760090176,\"Linear reg Pipeline\",\"BKG_BOOKING_WINDOW_D\"],[1.2822955760090176,\"Linear reg Pipeline\",\"BKG_BOOKING_WINDOW_D\"],[1.2822955760090176,\"Linear reg Pipeline\",\"BKG_BOOKING_WINDOW_D\"],[1.2822955760090176,\"Linear reg Pipeline\",\"BKG_BOOKING_WINDOW_D\"],[1.2822955760090176,\"Linear reg Pipeline\",\"BKG_BOOKING_WINDOW_D\"],[1.2822955760090176,\"Linear reg Pipeline\",\"BKG_BOOKING_WINDOW_D\"],[1.2822955760090176,\"Linear reg Pipeline\",\"BKG_BOOKING_WINDOW_D\"],[1.2822955760090176,\"Linear reg Pipeline\",\"BKG_BOOKING_WINDOW_D\"],[1.2822955760090176,\"Linear reg Pipeline\",\"BKG_BOOKING_WINDOW_D\"],[1.2822955760090176,\"Linear reg Pipeline\",\"BKG_BOOKING_WINDOW_D\"],[1.2822955760090176,\"Linear reg Pipeline\",\"BKG_BOOKING_WINDOW_D\"],[1.2822955760090176,\"Linear reg Pipeline\",\"BKG_BOOKING_WINDOW_D\"],[1.2822955760090176,\"Linear reg Pipeline\",\"BKG_BOOKING_WINDOW_D\"],[1.2822955760090176,\"Linear reg Pipeline\",\"BKG_BOOKING_WINDOW_D\"],[1.2822955760090176,\"Linear reg Pipeline\",\"BKG_BOOKING_WINDOW_D\"],[1.2822955760090176,\"Linear reg Pipeline\",\"BKG_BOOKING_WINDOW_D\"],[1.2822955760090176,\"Linear reg Pipeline\",\"BKG_BOOKING_WINDOW_D\"],[1.2822955760090176,\"Linear reg Pipeline\",\"BKG_BOOKING_WINDOW_D\"],[1.2822955760090176,\"Linear reg Pipeline\",\"BKG_BOOKING_WINDOW_D\"],[1.2822955760090176,\"Linear reg Pipeline\",\"BKG_BOOKING_WINDOW_D\"],[1.2822955760090176,\"Linear reg Pipeline\",\"BKG_BOOKING_WINDOW_D\"],[1.2822955760090176,\"Linear reg Pipeline\",\"BKG_BOOKING_WINDOW_D\"],[1.2822955760090176,\"Linear reg Pipeline\",\"BKG_BOOKING_WINDOW_D\"],[1.2822955760090176,\"Linear reg Pipeline\",\"BKG_BOOKING_WINDOW_D\"],[1.2822955760090176,\"Linear reg Pipeline\",\"BKG_BOOKING_WINDOW_D\"],[1.2822955760090176,\"Linear reg Pipeline\",\"BKG_BOOKING_WINDOW_D\"],[1.2822955760090176,\"Linear reg Pipeline\",\"BKG_BOOKING_WINDOW_D\"],[1.2822955760090176,\"Linear reg Pipeline\",\"BKG_BOOKING_WINDOW_D\"],[1.2822955760090176,\"Linear reg Pipeline\",\"BKG_BOOKING_WINDOW_D\"],[1.2822955760090176,\"Linear reg Pipeline\",\"BKG_BOOKING_WINDOW_D\"],[1.2822955760090176,\"Linear reg Pipeline\",\"BKG_BOOKING_WINDOW_D\"],[1.2822955760090176,\"Linear reg Pipeline\",\"BKG_BOOKING_WINDOW_D\"],[1.2822955760090176,\"Linear reg Pipeline\",\"BKG_BOOKING_WINDOW_D\"],[1.2822955760090176,\"Linear reg Pipeline\",\"BKG_BOOKING_WINDOW_D\"],[1.2822955760090176,\"Linear reg Pipeline\",\"BKG_BOOKING_WINDOW_D\"],[1.2822955760090176,\"Linear reg Pipeline\",\"BKG_BOOKING_WINDOW_D\"],[1.2822955760090176,\"Linear reg Pipeline\",\"BKG_BOOKING_WINDOW_D\"],[1.2822955760090176,\"Linear reg Pipeline\",\"BKG_BOOKING_WINDOW_D\"],[1.2822955760090176,\"Linear reg Pipeline\",\"BKG_BOOKING_WINDOW_D\"],[1.2822955760090176,\"Linear reg Pipeline\",\"BKG_BOOKING_WINDOW_D\"],[1.2822955760090176,\"Linear reg Pipeline\",\"BKG_BOOKING_WINDOW_D\"],[1.2822955760090176,\"Linear reg Pipeline\",\"BKG_BOOKING_WINDOW_D\"],[1.2822955760090176,\"Linear reg Pipeline\",\"BKG_BOOKING_WINDOW_D\"],[1.2822955760090176,\"Linear reg Pipeline\",\"BKG_BOOKING_WINDOW_D\"],[1.2822955760090176,\"Linear reg Pipeline\",\"BKG_BOOKING_WINDOW_D\"],[1.2822955760090176,\"Linear reg Pipeline\",\"BKG_BOOKING_WINDOW_D\"],[1.2822955760090176,\"Linear reg Pipeline\",\"BKG_BOOKING_WINDOW_D\"],[1.2822955760090176,\"Linear reg Pipeline\",\"BKG_BOOKING_WINDOW_D\"],[1.2822955760090176,\"Linear reg Pipeline\",\"BKG_BOOKING_WINDOW_D\"],[1.2822955760090176,\"Linear reg Pipeline\",\"BKG_BOOKING_WINDOW_D\"],[1.2822955760090176,\"Linear reg Pipeline\",\"BKG_BOOKING_WINDOW_D\"],[1.2822955760090176,\"Linear reg Pipeline\",\"BKG_BOOKING_WINDOW_D\"],[1.2822955760090176,\"Linear reg Pipeline\",\"BKG_BOOKING_WINDOW_D\"],[1.2822955760090176,\"Linear reg Pipeline\",\"BKG_BOOKING_WINDOW_D\"],[1.2822955760090176,\"Linear reg Pipeline\",\"BKG_BOOKING_WINDOW_D\"],[1.2822955760090176,\"Linear reg Pipeline\",\"BKG_BOOKING_WINDOW_D\"],[1.2822955760090176,\"Linear reg Pipeline\",\"BKG_BOOKING_WINDOW_D\"],[1.2822955760090176,\"Linear reg Pipeline\",\"BKG_BOOKING_WINDOW_D\"],[1.2822955760090176,\"Linear reg Pipeline\",\"BKG_BOOKING_WINDOW_D\"],[1.2822955760090176,\"Linear reg Pipeline\",\"BKG_BOOKING_WINDOW_D\"],[1.2822955760090176,\"Linear reg Pipeline\",\"BKG_BOOKING_WINDOW_D\"],[1.2822955760090176,\"Linear reg Pipeline\",\"BKG_BOOKING_WINDOW_D\"],[1.2822955760090176,\"Linear reg Pipeline\",\"BKG_BOOKING_WINDOW_D\"],[1.2822955760090176,\"Linear reg Pipeline\",\"BKG_BOOKING_WINDOW_D\"],[1.2822955760090176,\"Linear reg Pipeline\",\"BKG_BOOKING_WINDOW_D\"],[1.2822955760090176,\"Linear reg Pipeline\",\"BKG_BOOKING_WINDOW_D\"],[1.2822955760090176,\"Linear reg Pipeline\",\"BKG_BOOKING_WINDOW_D\"],[1.2822955760090176,\"Linear reg Pipeline\",\"BKG_BOOKING_WINDOW_D\"],[1.2822955760090176,\"Linear reg Pipeline\",\"BKG_BOOKING_WINDOW_D\"],[1.2822955760090176,\"Linear reg Pipeline\",\"BKG_BOOKING_WINDOW_D\"],[1.2822955760090176,\"Linear reg Pipeline\",\"BKG_BOOKING_WINDOW_D\"],[1.2822955760090176,\"Linear reg Pipeline\",\"BKG_BOOKING_WINDOW_D\"],[1.2822955760090176,\"Linear reg Pipeline\",\"BKG_BOOKING_WINDOW_D\"],[1.2822955760090176,\"Linear reg Pipeline\",\"BKG_BOOKING_WINDOW_D\"],[1.2822955760090176,\"Linear reg Pipeline\",\"BKG_BOOKING_WINDOW_D\"],[1.2822955760090176,\"Linear reg Pipeline\",\"BKG_BOOKING_WINDOW_D\"],[1.2822955760090176,\"Linear reg Pipeline\",\"BKG_BOOKING_WINDOW_D\"],[1.2822955760090176,\"Linear reg Pipeline\",\"BKG_BOOKING_WINDOW_D\"],[1.2822955760090176,\"Linear reg Pipeline\",\"BKG_BOOKING_WINDOW_D\"],[1.2822955760090176,\"Linear reg Pipeline\",\"BKG_BOOKING_WINDOW_D\"],[1.2822955760090176,\"Linear reg Pipeline\",\"BKG_BOOKING_WINDOW_D\"],[1.2822955760090176,\"Linear reg Pipeline\",\"BKG_BOOKING_WINDOW_D\"],[1.2822955760090176,\"Linear reg Pipeline\",\"BKG_BOOKING_WINDOW_D\"],[1.2822955760090176,\"Linear reg Pipeline\",\"BKG_BOOKING_WINDOW_D\"],[1.2822955760090176,\"Linear reg Pipeline\",\"BKG_BOOKING_WINDOW_D\"],[1.2822955760090176,\"Linear reg Pipeline\",\"BKG_BOOKING_WINDOW_D\"],[1.2822955760090176,\"Linear reg Pipeline\",\"BKG_BOOKING_WINDOW_D\"],[1.2822955760090176,\"Linear reg Pipeline\",\"BKG_BOOKING_WINDOW_D\"]],\"hovertemplate\":\"<b>%{hovertext}</b><br><br>prediction=%{y:.3f}<br>mean_prediction=%{customdata[0]:.3f}<extra></extra>\",\"hovertext\":[\"Linear reg Pipeline\",\"Linear reg Pipeline\",\"Linear reg Pipeline\",\"Linear reg Pipeline\",\"Linear reg Pipeline\",\"Linear reg Pipeline\",\"Linear reg Pipeline\",\"Linear reg Pipeline\",\"Linear reg Pipeline\",\"Linear reg Pipeline\",\"Linear reg Pipeline\",\"Linear reg Pipeline\",\"Linear reg Pipeline\",\"Linear reg Pipeline\",\"Linear reg Pipeline\",\"Linear reg Pipeline\",\"Linear reg Pipeline\",\"Linear reg Pipeline\",\"Linear reg Pipeline\",\"Linear reg Pipeline\",\"Linear reg Pipeline\",\"Linear reg Pipeline\",\"Linear reg Pipeline\",\"Linear reg Pipeline\",\"Linear reg Pipeline\",\"Linear reg Pipeline\",\"Linear reg Pipeline\",\"Linear reg Pipeline\",\"Linear reg Pipeline\",\"Linear reg Pipeline\",\"Linear reg Pipeline\",\"Linear reg Pipeline\",\"Linear reg Pipeline\",\"Linear reg Pipeline\",\"Linear reg Pipeline\",\"Linear reg Pipeline\",\"Linear reg Pipeline\",\"Linear reg Pipeline\",\"Linear reg Pipeline\",\"Linear reg Pipeline\",\"Linear reg Pipeline\",\"Linear reg Pipeline\",\"Linear reg Pipeline\",\"Linear reg Pipeline\",\"Linear reg Pipeline\",\"Linear reg Pipeline\",\"Linear reg Pipeline\",\"Linear reg Pipeline\",\"Linear reg Pipeline\",\"Linear reg Pipeline\",\"Linear reg Pipeline\",\"Linear reg Pipeline\",\"Linear reg Pipeline\",\"Linear reg Pipeline\",\"Linear reg Pipeline\",\"Linear reg Pipeline\",\"Linear reg Pipeline\",\"Linear reg Pipeline\",\"Linear reg Pipeline\",\"Linear reg Pipeline\",\"Linear reg Pipeline\",\"Linear reg Pipeline\",\"Linear reg Pipeline\",\"Linear reg Pipeline\",\"Linear reg Pipeline\",\"Linear reg Pipeline\",\"Linear reg Pipeline\",\"Linear reg Pipeline\",\"Linear reg Pipeline\",\"Linear reg Pipeline\",\"Linear reg Pipeline\",\"Linear reg Pipeline\",\"Linear reg Pipeline\",\"Linear reg Pipeline\",\"Linear reg Pipeline\",\"Linear reg Pipeline\",\"Linear reg Pipeline\",\"Linear reg Pipeline\",\"Linear reg Pipeline\",\"Linear reg Pipeline\",\"Linear reg Pipeline\",\"Linear reg Pipeline\",\"Linear reg Pipeline\",\"Linear reg Pipeline\",\"Linear reg Pipeline\",\"Linear reg Pipeline\",\"Linear reg Pipeline\",\"Linear reg Pipeline\",\"Linear reg Pipeline\",\"Linear reg Pipeline\",\"Linear reg Pipeline\",\"Linear reg Pipeline\",\"Linear reg Pipeline\",\"Linear reg Pipeline\",\"Linear reg Pipeline\",\"Linear reg Pipeline\",\"Linear reg Pipeline\",\"Linear reg Pipeline\",\"Linear reg Pipeline\",\"Linear reg Pipeline\",\"Linear reg Pipeline\"],\"legendgroup\":\"Linear reg Pipeline\",\"line\":{\"color\":\"#46bac2\",\"dash\":\"solid\",\"width\":2},\"marker\":{\"symbol\":\"circle\"},\"mode\":\"lines\",\"name\":\"Linear reg Pipeline\",\"orientation\":\"v\",\"showlegend\":false,\"x\":[0.0,1.38,2.76,4.14,5.52,6.8999999999999995,8.28,9.66,11.04,12.419999999999998,13.799999999999999,15.18,16.56,17.939999999999998,19.32,20.7,22.08,23.459999999999997,24.839999999999996,26.22,27.599999999999998,28.979999999999997,30.36,31.74,33.12,34.5,35.879999999999995,37.26,38.64,40.019999999999996,41.4,42.779999999999994,44.16,45.54,46.919999999999995,48.3,49.67999999999999,51.059999999999995,52.44,53.81999999999999,55.199999999999996,56.58,57.959999999999994,59.339999999999996,60.72,62.099999999999994,63.48,64.86,66.24,67.61999999999999,69.0,70.38,71.75999999999999,73.14,74.52,75.89999999999999,77.28,78.66,80.03999999999999,81.41999999999999,82.8,84.17999999999999,85.55999999999999,86.94,88.32,89.69999999999999,91.08,92.46,93.83999999999999,95.22,96.6,97.97999999999999,99.35999999999999,100.74,102.11999999999999,103.49999999999999,104.88,106.25999999999999,107.63999999999999,109.02,110.39999999999999,111.77999999999999,113.16,114.53999999999999,115.91999999999999,117.3,118.67999999999999,120.05999999999999,121.44,122.82,124.19999999999999,125.57999999999998,126.96,128.34,129.72,131.1,132.48,133.85999999999999,135.23999999999998,136.61999999999998,138.0],\"xaxis\":\"x2\",\"y\":[1.1618321031409535,1.165640279512928,1.1694484558849025,1.173256632256877,1.1770648086288515,1.1808729850008262,1.1846811613728006,1.1884893377447752,1.1922975141167496,1.196105690488724,1.1999138668606986,1.203722043232673,1.2075302196046473,1.211338395976622,1.2151465723485966,1.2189547487205712,1.2227629250925456,1.22657110146452,1.2303792778364946,1.234187454208469,1.2379956305804434,1.241803806952418,1.2456119833243926,1.2494201596963672,1.2532283360683416,1.2570365124403162,1.2608446888122906,1.264652865184265,1.2684610415562396,1.272269217928214,1.2760773943001886,1.2798855706721632,1.2836937470441376,1.2875019234161122,1.2913100997880866,1.295118276160061,1.2989264525320356,1.30273462890401,1.3065428052759847,1.3103509816479593,1.3141591580199337,1.3179673343919083,1.3217755107638827,1.3255836871358573,1.3293918635078317,1.333200039879806,1.3370082162517807,1.340816392623755,1.3446245689957297,1.3484327453677043,1.3522409217396787,1.3560490981116533,1.3598572744836277,1.363665450855602,1.3674736272275767,1.371281803599551,1.3750899799715257,1.3788981563435003,1.3827063327154747,1.3865145090874493,1.3903226854594237,1.3941308618313981,1.3979390382033727,1.4017472145753471,1.4055553909473217,1.4093635673192964,1.413171743691271,1.4169799200632454,1.4207880964352197,1.4245962728071944,1.4284044491791688,1.4322126255511431,1.4360208019231175,1.4398289782950924,1.443637154667067,1.4474453310390414,1.451253507411016,1.4550616837829904,1.4588698601549648,1.4626780365269392,1.4664862128989138,1.4702943892708882,1.4741025656428628,1.4779107420148374,1.481718918386812,1.4855270947587864,1.489335271130761,1.4931434475027354,1.4969516238747098,1.5007598002466842,1.5045679766186588,1.5083761529906334,1.512184329362608,1.5159925057345824,1.519800682106557,1.5236088584785314,1.5274170348505058,1.5312252112224802,1.5350333875944548,1.5388415639664295,1.542649740338404],\"yaxis\":\"y2\",\"type\":\"scatter\",\"opacity\":1}],                        {\"template\":{\"data\":{\"scatter\":[{\"type\":\"scatter\"}]}},\"xaxis\":{\"anchor\":\"y\",\"domain\":[0.0,0.475],\"title\":{\"text\":\"\"},\"showticklabels\":true,\"type\":\"linear\",\"gridwidth\":2,\"zeroline\":false,\"automargin\":true,\"ticks\":\"outside\",\"tickcolor\":\"white\",\"ticklen\":3,\"fixedrange\":true},\"yaxis\":{\"anchor\":\"x\",\"domain\":[0.0,1.0],\"title\":{\"text\":\"\"},\"type\":\"linear\",\"gridwidth\":2,\"zeroline\":false,\"automargin\":true,\"ticks\":\"outside\",\"tickcolor\":\"white\",\"ticklen\":3,\"fixedrange\":true,\"range\":[0.3064222634239914,1.6823258605195366]},\"xaxis2\":{\"anchor\":\"y2\",\"domain\":[0.525,1.0],\"title\":{\"text\":\"\"},\"showticklabels\":true,\"type\":\"linear\",\"gridwidth\":2,\"zeroline\":false,\"automargin\":true,\"ticks\":\"outside\",\"tickcolor\":\"white\",\"ticklen\":3,\"fixedrange\":true},\"yaxis2\":{\"anchor\":\"x2\",\"domain\":[0.0,1.0],\"matches\":\"y\",\"showticklabels\":false,\"type\":\"linear\",\"gridwidth\":2,\"zeroline\":false,\"automargin\":true,\"ticks\":\"outside\",\"tickcolor\":\"white\",\"ticklen\":3,\"fixedrange\":true,\"range\":[0.3064222634239914,1.6823258605195366],\"title\":{\"text\":\"\"}},\"annotations\":[{\"font\":{\"size\":13},\"showarrow\":false,\"text\":\"FCP_FLIGHT_DISTANCE\",\"x\":0.2375,\"xanchor\":\"center\",\"xref\":\"paper\",\"y\":1.0,\"yanchor\":\"bottom\",\"yref\":\"paper\"},{\"font\":{\"size\":13},\"showarrow\":false,\"text\":\"BKG_BOOKING_WINDOW_D\",\"x\":0.7625,\"xanchor\":\"center\",\"xref\":\"paper\",\"y\":1.0,\"yanchor\":\"bottom\",\"yref\":\"paper\"},{\"font\":{\"size\":13},\"showarrow\":false,\"text\":\"prediction\",\"textangle\":-90,\"x\":-0.07,\"xref\":\"paper\",\"y\":0.5,\"yref\":\"paper\"}],\"legend\":{\"title\":{\"text\":\"label\",\"font\":{\"size\":12}},\"tracegroupgap\":0,\"font\":{\"size\":11},\"orientation\":\"h\",\"yanchor\":\"bottom\",\"y\":1.0613496932515338,\"xanchor\":\"right\",\"x\":1,\"itemsizing\":\"constant\"},\"margin\":{\"t\":78,\"b\":71,\"r\":30},\"font\":{\"color\":\"#371ea3\"},\"title\":{\"font\":{\"size\":16},\"text\":\"Aggregated Profiles\",\"x\":0.15},\"hovermode\":\"x unified\",\"height\":489},                        {\"displaylogo\": false, \"staticPlot\": false, \"toImageButtonOptions\": {\"height\": null, \"width\": null}, \"modeBarButtonsToRemove\": [\"sendDataToCloud\", \"lasso2d\", \"autoScale2d\", \"select2d\", \"zoom2d\", \"pan2d\", \"zoomIn2d\", \"zoomOut2d\", \"resetScale2d\", \"toggleSpikelines\", \"hoverCompareCartesian\", \"hoverClosestCartesian\"], \"responsive\": true}                    ).then(function(){\n",
       "                            \n",
       "var gd = document.getElementById('5f1ac5ed-3cb4-467f-87f0-b90a776fc590');\n",
       "var x = new MutationObserver(function (mutations, observer) {{\n",
       "        var display = window.getComputedStyle(gd).display;\n",
       "        if (!display || display === 'none') {{\n",
       "            console.log([gd, 'removed!']);\n",
       "            Plotly.purge(gd);\n",
       "            observer.disconnect();\n",
       "        }}\n",
       "}});\n",
       "\n",
       "// Listen for the removal of the full notebook cells\n",
       "var notebookContainer = gd.closest('#notebook-container');\n",
       "if (notebookContainer) {{\n",
       "    x.observe(notebookContainer, {childList: true});\n",
       "}}\n",
       "\n",
       "// Listen for the clearing of the current output cell\n",
       "var outputEl = gd.closest('.output');\n",
       "if (outputEl) {{\n",
       "    x.observe(outputEl, {childList: true});\n",
       "}}\n",
       "\n",
       "                        })                };                });            </script>        </div>"
      ]
     },
     "metadata": {},
     "output_type": "display_data"
    }
   ],
   "source": [
    "pd_lin_reg = lin_reg_exp.model_profile(variables = ['FCP_FLIGHT_DISTANCE', 'BKG_BOOKING_WINDOW_D'])\n",
    "pd_lin_reg.plot()"
   ]
  }
 ],
 "metadata": {
  "kernelspec": {
   "display_name": "Python 3 (ipykernel)",
   "language": "python",
   "name": "python3"
  },
  "language_info": {
   "codemirror_mode": {
    "name": "ipython",
    "version": 3
   },
   "file_extension": ".py",
   "mimetype": "text/x-python",
   "name": "python",
   "nbconvert_exporter": "python",
   "pygments_lexer": "ipython3",
   "version": "3.9.7"
  }
 },
 "nbformat": 4,
 "nbformat_minor": 5
}
